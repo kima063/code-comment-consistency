{
  "cells": [
    {
      "cell_type": "code",
      "execution_count": null,
      "metadata": {
        "id": "3duW6ewdA1I7"
      },
      "outputs": [],
      "source": [
        "import pandas as pd\n",
        "import numpy as np\n",
        "import re\n",
        "from sklearn.metrics import accuracy_score\n",
        "from nltk.tokenize import word_tokenize\n",
        "from sklearn.model_selection import train_test_split\n",
        "import nltk\n",
        "from sklearn.feature_extraction.text import CountVectorizer\n",
        "from sklearn.decomposition import LatentDirichletAllocation\n",
        "from sklearn.model_selection import StratifiedKFold\n",
        "from sklearn.linear_model import LogisticRegression\n",
        "from sklearn.metrics import accuracy_score\n",
        "from sklearn.metrics import classification_report\n",
        "from sklearn.metrics import plot_confusion_matrix\n",
        "from sklearn.metrics import confusion_matrix\n",
        "from sklearn.metrics import roc_auc_score\n",
        "from sklearn.metrics import precision_score\n",
        "from sklearn.metrics import recall_score\n",
        "import seaborn as sn\n",
        "\n",
        "import warnings\n",
        "warnings.filterwarnings('ignore')"
      ]
    },
    {
      "cell_type": "code",
      "execution_count": null,
      "metadata": {
        "colab": {
          "base_uri": "https://localhost:8080/"
        },
        "id": "cppoGKHhHV7I",
        "outputId": "3d456035-9016-430e-8ac1-341f0b6e560a"
      },
      "outputs": [
        {
          "output_type": "stream",
          "name": "stderr",
          "text": [
            "[nltk_data] Downloading package omw-1.4 to /root/nltk_data...\n"
          ]
        },
        {
          "output_type": "execute_result",
          "data": {
            "text/plain": [
              "True"
            ]
          },
          "metadata": {},
          "execution_count": 2
        }
      ],
      "source": [
        "nltk.download('omw-1.4')"
      ]
    },
    {
      "cell_type": "code",
      "execution_count": null,
      "metadata": {
        "id": "2iOKSgahA1KB"
      },
      "outputs": [],
      "source": [
        "df_main = pd.read_csv('method_data.csv', engine='python',encoding='utf-8')"
      ]
    },
    {
      "cell_type": "code",
      "execution_count": null,
      "metadata": {
        "id": "Pbj7w0OBA1KG"
      },
      "outputs": [],
      "source": [
        "target_value = pd.read_csv('method_target_value.csv')"
      ]
    },
    {
      "cell_type": "code",
      "execution_count": null,
      "metadata": {
        "colab": {
          "base_uri": "https://localhost:8080/"
        },
        "id": "4pfuP1__A1KX",
        "outputId": "85d207b5-343f-441d-f608-a9657eb729af"
      },
      "outputs": [
        {
          "output_type": "execute_result",
          "data": {
            "text/plain": [
              "(3829, 4)"
            ]
          },
          "metadata": {},
          "execution_count": 5
        }
      ],
      "source": [
        "df = df_main.copy()\n",
        "df.shape"
      ]
    },
    {
      "cell_type": "code",
      "execution_count": null,
      "metadata": {
        "colab": {
          "base_uri": "https://localhost:8080/",
          "height": 363
        },
        "id": "jpSsZ6FQAcKI",
        "outputId": "d94aadd7-6de4-4f8a-be1a-00a9bdb3b720"
      },
      "outputs": [
        {
          "output_type": "execute_result",
          "data": {
            "text/plain": [
              "      Index                                               code  \\\n",
              "3819   3820        internal static string StrAdvancedOptions {   \n",
              "3820   3821           internal static string StrAlignToGraph {   \n",
              "3821   3822                    internal static string StrAll {   \n",
              "3822   3823                  internal static string StrAmend {   \n",
              "3823   3824           internal static string StrAnnotatedTag {   \n",
              "3824   3825           internal static string StrApplyPatches {   \n",
              "3825   3826                internal static string StrApplyTo {   \n",
              "3826   3827  internal static string StrAskBranchIsNotFullyM...   \n",
              "3827   3828          internal static string StrAskDeletePath {   \n",
              "3828   3829           internal static string StrAskHardReset {   \n",
              "\n",
              "                                                comment  label  \n",
              "3819  Looks up a localized string similar to Advance...      0  \n",
              "3820  Looks up a localized string similar to Align t...      0  \n",
              "3821        Looks up a localized string similar to All.      0  \n",
              "3822      Looks up a localized string similar to Amend.      0  \n",
              "3823  Looks up a localized string similar to Annotated.      0  \n",
              "3824  Looks up a localized string similar to Apply P...      0  \n",
              "3825   Looks up a localized string similar to Apply to.      0  \n",
              "3826  Looks up a localized string similar to The bra...      0  \n",
              "3827  Looks up a localized string similar to You are...      0  \n",
              "3828  Looks up a localized string similar to All you...      0  "
            ],
            "text/html": [
              "\n",
              "  <div id=\"df-8f193a59-7260-4ca7-8c68-9a4939c5e8e2\">\n",
              "    <div class=\"colab-df-container\">\n",
              "      <div>\n",
              "<style scoped>\n",
              "    .dataframe tbody tr th:only-of-type {\n",
              "        vertical-align: middle;\n",
              "    }\n",
              "\n",
              "    .dataframe tbody tr th {\n",
              "        vertical-align: top;\n",
              "    }\n",
              "\n",
              "    .dataframe thead th {\n",
              "        text-align: right;\n",
              "    }\n",
              "</style>\n",
              "<table border=\"1\" class=\"dataframe\">\n",
              "  <thead>\n",
              "    <tr style=\"text-align: right;\">\n",
              "      <th></th>\n",
              "      <th>Index</th>\n",
              "      <th>code</th>\n",
              "      <th>comment</th>\n",
              "      <th>label</th>\n",
              "    </tr>\n",
              "  </thead>\n",
              "  <tbody>\n",
              "    <tr>\n",
              "      <th>3819</th>\n",
              "      <td>3820</td>\n",
              "      <td>internal static string StrAdvancedOptions {</td>\n",
              "      <td>Looks up a localized string similar to Advance...</td>\n",
              "      <td>0</td>\n",
              "    </tr>\n",
              "    <tr>\n",
              "      <th>3820</th>\n",
              "      <td>3821</td>\n",
              "      <td>internal static string StrAlignToGraph {</td>\n",
              "      <td>Looks up a localized string similar to Align t...</td>\n",
              "      <td>0</td>\n",
              "    </tr>\n",
              "    <tr>\n",
              "      <th>3821</th>\n",
              "      <td>3822</td>\n",
              "      <td>internal static string StrAll {</td>\n",
              "      <td>Looks up a localized string similar to All.</td>\n",
              "      <td>0</td>\n",
              "    </tr>\n",
              "    <tr>\n",
              "      <th>3822</th>\n",
              "      <td>3823</td>\n",
              "      <td>internal static string StrAmend {</td>\n",
              "      <td>Looks up a localized string similar to Amend.</td>\n",
              "      <td>0</td>\n",
              "    </tr>\n",
              "    <tr>\n",
              "      <th>3823</th>\n",
              "      <td>3824</td>\n",
              "      <td>internal static string StrAnnotatedTag {</td>\n",
              "      <td>Looks up a localized string similar to Annotated.</td>\n",
              "      <td>0</td>\n",
              "    </tr>\n",
              "    <tr>\n",
              "      <th>3824</th>\n",
              "      <td>3825</td>\n",
              "      <td>internal static string StrApplyPatches {</td>\n",
              "      <td>Looks up a localized string similar to Apply P...</td>\n",
              "      <td>0</td>\n",
              "    </tr>\n",
              "    <tr>\n",
              "      <th>3825</th>\n",
              "      <td>3826</td>\n",
              "      <td>internal static string StrApplyTo {</td>\n",
              "      <td>Looks up a localized string similar to Apply to.</td>\n",
              "      <td>0</td>\n",
              "    </tr>\n",
              "    <tr>\n",
              "      <th>3826</th>\n",
              "      <td>3827</td>\n",
              "      <td>internal static string StrAskBranchIsNotFullyM...</td>\n",
              "      <td>Looks up a localized string similar to The bra...</td>\n",
              "      <td>0</td>\n",
              "    </tr>\n",
              "    <tr>\n",
              "      <th>3827</th>\n",
              "      <td>3828</td>\n",
              "      <td>internal static string StrAskDeletePath {</td>\n",
              "      <td>Looks up a localized string similar to You are...</td>\n",
              "      <td>0</td>\n",
              "    </tr>\n",
              "    <tr>\n",
              "      <th>3828</th>\n",
              "      <td>3829</td>\n",
              "      <td>internal static string StrAskHardReset {</td>\n",
              "      <td>Looks up a localized string similar to All you...</td>\n",
              "      <td>0</td>\n",
              "    </tr>\n",
              "  </tbody>\n",
              "</table>\n",
              "</div>\n",
              "      <button class=\"colab-df-convert\" onclick=\"convertToInteractive('df-8f193a59-7260-4ca7-8c68-9a4939c5e8e2')\"\n",
              "              title=\"Convert this dataframe to an interactive table.\"\n",
              "              style=\"display:none;\">\n",
              "        \n",
              "  <svg xmlns=\"http://www.w3.org/2000/svg\" height=\"24px\"viewBox=\"0 0 24 24\"\n",
              "       width=\"24px\">\n",
              "    <path d=\"M0 0h24v24H0V0z\" fill=\"none\"/>\n",
              "    <path d=\"M18.56 5.44l.94 2.06.94-2.06 2.06-.94-2.06-.94-.94-2.06-.94 2.06-2.06.94zm-11 1L8.5 8.5l.94-2.06 2.06-.94-2.06-.94L8.5 2.5l-.94 2.06-2.06.94zm10 10l.94 2.06.94-2.06 2.06-.94-2.06-.94-.94-2.06-.94 2.06-2.06.94z\"/><path d=\"M17.41 7.96l-1.37-1.37c-.4-.4-.92-.59-1.43-.59-.52 0-1.04.2-1.43.59L10.3 9.45l-7.72 7.72c-.78.78-.78 2.05 0 2.83L4 21.41c.39.39.9.59 1.41.59.51 0 1.02-.2 1.41-.59l7.78-7.78 2.81-2.81c.8-.78.8-2.07 0-2.86zM5.41 20L4 18.59l7.72-7.72 1.47 1.35L5.41 20z\"/>\n",
              "  </svg>\n",
              "      </button>\n",
              "      \n",
              "  <style>\n",
              "    .colab-df-container {\n",
              "      display:flex;\n",
              "      flex-wrap:wrap;\n",
              "      gap: 12px;\n",
              "    }\n",
              "\n",
              "    .colab-df-convert {\n",
              "      background-color: #E8F0FE;\n",
              "      border: none;\n",
              "      border-radius: 50%;\n",
              "      cursor: pointer;\n",
              "      display: none;\n",
              "      fill: #1967D2;\n",
              "      height: 32px;\n",
              "      padding: 0 0 0 0;\n",
              "      width: 32px;\n",
              "    }\n",
              "\n",
              "    .colab-df-convert:hover {\n",
              "      background-color: #E2EBFA;\n",
              "      box-shadow: 0px 1px 2px rgba(60, 64, 67, 0.3), 0px 1px 3px 1px rgba(60, 64, 67, 0.15);\n",
              "      fill: #174EA6;\n",
              "    }\n",
              "\n",
              "    [theme=dark] .colab-df-convert {\n",
              "      background-color: #3B4455;\n",
              "      fill: #D2E3FC;\n",
              "    }\n",
              "\n",
              "    [theme=dark] .colab-df-convert:hover {\n",
              "      background-color: #434B5C;\n",
              "      box-shadow: 0px 1px 3px 1px rgba(0, 0, 0, 0.15);\n",
              "      filter: drop-shadow(0px 1px 2px rgba(0, 0, 0, 0.3));\n",
              "      fill: #FFFFFF;\n",
              "    }\n",
              "  </style>\n",
              "\n",
              "      <script>\n",
              "        const buttonEl =\n",
              "          document.querySelector('#df-8f193a59-7260-4ca7-8c68-9a4939c5e8e2 button.colab-df-convert');\n",
              "        buttonEl.style.display =\n",
              "          google.colab.kernel.accessAllowed ? 'block' : 'none';\n",
              "\n",
              "        async function convertToInteractive(key) {\n",
              "          const element = document.querySelector('#df-8f193a59-7260-4ca7-8c68-9a4939c5e8e2');\n",
              "          const dataTable =\n",
              "            await google.colab.kernel.invokeFunction('convertToInteractive',\n",
              "                                                     [key], {});\n",
              "          if (!dataTable) return;\n",
              "\n",
              "          const docLinkHtml = 'Like what you see? Visit the ' +\n",
              "            '<a target=\"_blank\" href=https://colab.research.google.com/notebooks/data_table.ipynb>data table notebook</a>'\n",
              "            + ' to learn more about interactive tables.';\n",
              "          element.innerHTML = '';\n",
              "          dataTable['output_type'] = 'display_data';\n",
              "          await google.colab.output.renderOutput(dataTable, element);\n",
              "          const docLink = document.createElement('div');\n",
              "          docLink.innerHTML = docLinkHtml;\n",
              "          element.appendChild(docLink);\n",
              "        }\n",
              "      </script>\n",
              "    </div>\n",
              "  </div>\n",
              "  "
            ]
          },
          "metadata": {},
          "execution_count": 6
        }
      ],
      "source": [
        "df.tail(10)"
      ]
    },
    {
      "cell_type": "code",
      "execution_count": null,
      "metadata": {
        "colab": {
          "base_uri": "https://localhost:8080/",
          "height": 363
        },
        "id": "5ChLS2ZPEya9",
        "outputId": "4a910304-aa3e-46b5-fdec-410225a62fe7"
      },
      "outputs": [
        {
          "output_type": "execute_result",
          "data": {
            "text/plain": [
              "   Index  label\n",
              "0      1      1\n",
              "1      2      1\n",
              "2      3      1\n",
              "3      4      0\n",
              "4      5      0\n",
              "5      6      0\n",
              "6      7      0\n",
              "7      8      0\n",
              "8      9      1\n",
              "9     10      1"
            ],
            "text/html": [
              "\n",
              "  <div id=\"df-cdccebb6-0ce5-4737-9490-e622d5addd9f\">\n",
              "    <div class=\"colab-df-container\">\n",
              "      <div>\n",
              "<style scoped>\n",
              "    .dataframe tbody tr th:only-of-type {\n",
              "        vertical-align: middle;\n",
              "    }\n",
              "\n",
              "    .dataframe tbody tr th {\n",
              "        vertical-align: top;\n",
              "    }\n",
              "\n",
              "    .dataframe thead th {\n",
              "        text-align: right;\n",
              "    }\n",
              "</style>\n",
              "<table border=\"1\" class=\"dataframe\">\n",
              "  <thead>\n",
              "    <tr style=\"text-align: right;\">\n",
              "      <th></th>\n",
              "      <th>Index</th>\n",
              "      <th>label</th>\n",
              "    </tr>\n",
              "  </thead>\n",
              "  <tbody>\n",
              "    <tr>\n",
              "      <th>0</th>\n",
              "      <td>1</td>\n",
              "      <td>1</td>\n",
              "    </tr>\n",
              "    <tr>\n",
              "      <th>1</th>\n",
              "      <td>2</td>\n",
              "      <td>1</td>\n",
              "    </tr>\n",
              "    <tr>\n",
              "      <th>2</th>\n",
              "      <td>3</td>\n",
              "      <td>1</td>\n",
              "    </tr>\n",
              "    <tr>\n",
              "      <th>3</th>\n",
              "      <td>4</td>\n",
              "      <td>0</td>\n",
              "    </tr>\n",
              "    <tr>\n",
              "      <th>4</th>\n",
              "      <td>5</td>\n",
              "      <td>0</td>\n",
              "    </tr>\n",
              "    <tr>\n",
              "      <th>5</th>\n",
              "      <td>6</td>\n",
              "      <td>0</td>\n",
              "    </tr>\n",
              "    <tr>\n",
              "      <th>6</th>\n",
              "      <td>7</td>\n",
              "      <td>0</td>\n",
              "    </tr>\n",
              "    <tr>\n",
              "      <th>7</th>\n",
              "      <td>8</td>\n",
              "      <td>0</td>\n",
              "    </tr>\n",
              "    <tr>\n",
              "      <th>8</th>\n",
              "      <td>9</td>\n",
              "      <td>1</td>\n",
              "    </tr>\n",
              "    <tr>\n",
              "      <th>9</th>\n",
              "      <td>10</td>\n",
              "      <td>1</td>\n",
              "    </tr>\n",
              "  </tbody>\n",
              "</table>\n",
              "</div>\n",
              "      <button class=\"colab-df-convert\" onclick=\"convertToInteractive('df-cdccebb6-0ce5-4737-9490-e622d5addd9f')\"\n",
              "              title=\"Convert this dataframe to an interactive table.\"\n",
              "              style=\"display:none;\">\n",
              "        \n",
              "  <svg xmlns=\"http://www.w3.org/2000/svg\" height=\"24px\"viewBox=\"0 0 24 24\"\n",
              "       width=\"24px\">\n",
              "    <path d=\"M0 0h24v24H0V0z\" fill=\"none\"/>\n",
              "    <path d=\"M18.56 5.44l.94 2.06.94-2.06 2.06-.94-2.06-.94-.94-2.06-.94 2.06-2.06.94zm-11 1L8.5 8.5l.94-2.06 2.06-.94-2.06-.94L8.5 2.5l-.94 2.06-2.06.94zm10 10l.94 2.06.94-2.06 2.06-.94-2.06-.94-.94-2.06-.94 2.06-2.06.94z\"/><path d=\"M17.41 7.96l-1.37-1.37c-.4-.4-.92-.59-1.43-.59-.52 0-1.04.2-1.43.59L10.3 9.45l-7.72 7.72c-.78.78-.78 2.05 0 2.83L4 21.41c.39.39.9.59 1.41.59.51 0 1.02-.2 1.41-.59l7.78-7.78 2.81-2.81c.8-.78.8-2.07 0-2.86zM5.41 20L4 18.59l7.72-7.72 1.47 1.35L5.41 20z\"/>\n",
              "  </svg>\n",
              "      </button>\n",
              "      \n",
              "  <style>\n",
              "    .colab-df-container {\n",
              "      display:flex;\n",
              "      flex-wrap:wrap;\n",
              "      gap: 12px;\n",
              "    }\n",
              "\n",
              "    .colab-df-convert {\n",
              "      background-color: #E8F0FE;\n",
              "      border: none;\n",
              "      border-radius: 50%;\n",
              "      cursor: pointer;\n",
              "      display: none;\n",
              "      fill: #1967D2;\n",
              "      height: 32px;\n",
              "      padding: 0 0 0 0;\n",
              "      width: 32px;\n",
              "    }\n",
              "\n",
              "    .colab-df-convert:hover {\n",
              "      background-color: #E2EBFA;\n",
              "      box-shadow: 0px 1px 2px rgba(60, 64, 67, 0.3), 0px 1px 3px 1px rgba(60, 64, 67, 0.15);\n",
              "      fill: #174EA6;\n",
              "    }\n",
              "\n",
              "    [theme=dark] .colab-df-convert {\n",
              "      background-color: #3B4455;\n",
              "      fill: #D2E3FC;\n",
              "    }\n",
              "\n",
              "    [theme=dark] .colab-df-convert:hover {\n",
              "      background-color: #434B5C;\n",
              "      box-shadow: 0px 1px 3px 1px rgba(0, 0, 0, 0.15);\n",
              "      filter: drop-shadow(0px 1px 2px rgba(0, 0, 0, 0.3));\n",
              "      fill: #FFFFFF;\n",
              "    }\n",
              "  </style>\n",
              "\n",
              "      <script>\n",
              "        const buttonEl =\n",
              "          document.querySelector('#df-cdccebb6-0ce5-4737-9490-e622d5addd9f button.colab-df-convert');\n",
              "        buttonEl.style.display =\n",
              "          google.colab.kernel.accessAllowed ? 'block' : 'none';\n",
              "\n",
              "        async function convertToInteractive(key) {\n",
              "          const element = document.querySelector('#df-cdccebb6-0ce5-4737-9490-e622d5addd9f');\n",
              "          const dataTable =\n",
              "            await google.colab.kernel.invokeFunction('convertToInteractive',\n",
              "                                                     [key], {});\n",
              "          if (!dataTable) return;\n",
              "\n",
              "          const docLinkHtml = 'Like what you see? Visit the ' +\n",
              "            '<a target=\"_blank\" href=https://colab.research.google.com/notebooks/data_table.ipynb>data table notebook</a>'\n",
              "            + ' to learn more about interactive tables.';\n",
              "          element.innerHTML = '';\n",
              "          dataTable['output_type'] = 'display_data';\n",
              "          await google.colab.output.renderOutput(dataTable, element);\n",
              "          const docLink = document.createElement('div');\n",
              "          docLink.innerHTML = docLinkHtml;\n",
              "          element.appendChild(docLink);\n",
              "        }\n",
              "      </script>\n",
              "    </div>\n",
              "  </div>\n",
              "  "
            ]
          },
          "metadata": {},
          "execution_count": 7
        }
      ],
      "source": [
        "target_value.head(10)"
      ]
    },
    {
      "cell_type": "code",
      "execution_count": null,
      "metadata": {
        "colab": {
          "base_uri": "https://localhost:8080/"
        },
        "id": "ba4473FwBCO2",
        "outputId": "4322314c-5be7-40e8-8ed3-35818e1c99e9"
      },
      "outputs": [
        {
          "output_type": "execute_result",
          "data": {
            "text/plain": [
              "1    2719\n",
              "0    1110\n",
              "Name: label, dtype: int64"
            ]
          },
          "metadata": {},
          "execution_count": 8
        }
      ],
      "source": [
        "df.label.value_counts()"
      ]
    },
    {
      "cell_type": "code",
      "execution_count": null,
      "metadata": {
        "id": "jLxqk3imAkF_"
      },
      "outputs": [],
      "source": [
        "# df.loc[:,'label'] = df.label.map({'NOT_COHERENT':0, 'COHERENT':1})"
      ]
    },
    {
      "cell_type": "code",
      "execution_count": null,
      "metadata": {
        "id": "nJmLVi7OQiFy"
      },
      "outputs": [],
      "source": [
        "# target_value.loc[:,'Label'] = target_value.Label.map({'NOT_COHERENT':0, 'COHERENT':1})"
      ]
    },
    {
      "cell_type": "code",
      "execution_count": null,
      "metadata": {
        "colab": {
          "base_uri": "https://localhost:8080/",
          "height": 206
        },
        "id": "1a1Y-7Iwb_e5",
        "outputId": "99624268-3f7f-44d8-e2c6-4801ecef52f3"
      },
      "outputs": [
        {
          "output_type": "execute_result",
          "data": {
            "text/plain": [
              "   Index  label\n",
              "0      1      1\n",
              "1      2      1\n",
              "2      3      1\n",
              "3      4      0\n",
              "4      5      0"
            ],
            "text/html": [
              "\n",
              "  <div id=\"df-4ab604d6-e109-464a-9e6c-de3a883ccce6\">\n",
              "    <div class=\"colab-df-container\">\n",
              "      <div>\n",
              "<style scoped>\n",
              "    .dataframe tbody tr th:only-of-type {\n",
              "        vertical-align: middle;\n",
              "    }\n",
              "\n",
              "    .dataframe tbody tr th {\n",
              "        vertical-align: top;\n",
              "    }\n",
              "\n",
              "    .dataframe thead th {\n",
              "        text-align: right;\n",
              "    }\n",
              "</style>\n",
              "<table border=\"1\" class=\"dataframe\">\n",
              "  <thead>\n",
              "    <tr style=\"text-align: right;\">\n",
              "      <th></th>\n",
              "      <th>Index</th>\n",
              "      <th>label</th>\n",
              "    </tr>\n",
              "  </thead>\n",
              "  <tbody>\n",
              "    <tr>\n",
              "      <th>0</th>\n",
              "      <td>1</td>\n",
              "      <td>1</td>\n",
              "    </tr>\n",
              "    <tr>\n",
              "      <th>1</th>\n",
              "      <td>2</td>\n",
              "      <td>1</td>\n",
              "    </tr>\n",
              "    <tr>\n",
              "      <th>2</th>\n",
              "      <td>3</td>\n",
              "      <td>1</td>\n",
              "    </tr>\n",
              "    <tr>\n",
              "      <th>3</th>\n",
              "      <td>4</td>\n",
              "      <td>0</td>\n",
              "    </tr>\n",
              "    <tr>\n",
              "      <th>4</th>\n",
              "      <td>5</td>\n",
              "      <td>0</td>\n",
              "    </tr>\n",
              "  </tbody>\n",
              "</table>\n",
              "</div>\n",
              "      <button class=\"colab-df-convert\" onclick=\"convertToInteractive('df-4ab604d6-e109-464a-9e6c-de3a883ccce6')\"\n",
              "              title=\"Convert this dataframe to an interactive table.\"\n",
              "              style=\"display:none;\">\n",
              "        \n",
              "  <svg xmlns=\"http://www.w3.org/2000/svg\" height=\"24px\"viewBox=\"0 0 24 24\"\n",
              "       width=\"24px\">\n",
              "    <path d=\"M0 0h24v24H0V0z\" fill=\"none\"/>\n",
              "    <path d=\"M18.56 5.44l.94 2.06.94-2.06 2.06-.94-2.06-.94-.94-2.06-.94 2.06-2.06.94zm-11 1L8.5 8.5l.94-2.06 2.06-.94-2.06-.94L8.5 2.5l-.94 2.06-2.06.94zm10 10l.94 2.06.94-2.06 2.06-.94-2.06-.94-.94-2.06-.94 2.06-2.06.94z\"/><path d=\"M17.41 7.96l-1.37-1.37c-.4-.4-.92-.59-1.43-.59-.52 0-1.04.2-1.43.59L10.3 9.45l-7.72 7.72c-.78.78-.78 2.05 0 2.83L4 21.41c.39.39.9.59 1.41.59.51 0 1.02-.2 1.41-.59l7.78-7.78 2.81-2.81c.8-.78.8-2.07 0-2.86zM5.41 20L4 18.59l7.72-7.72 1.47 1.35L5.41 20z\"/>\n",
              "  </svg>\n",
              "      </button>\n",
              "      \n",
              "  <style>\n",
              "    .colab-df-container {\n",
              "      display:flex;\n",
              "      flex-wrap:wrap;\n",
              "      gap: 12px;\n",
              "    }\n",
              "\n",
              "    .colab-df-convert {\n",
              "      background-color: #E8F0FE;\n",
              "      border: none;\n",
              "      border-radius: 50%;\n",
              "      cursor: pointer;\n",
              "      display: none;\n",
              "      fill: #1967D2;\n",
              "      height: 32px;\n",
              "      padding: 0 0 0 0;\n",
              "      width: 32px;\n",
              "    }\n",
              "\n",
              "    .colab-df-convert:hover {\n",
              "      background-color: #E2EBFA;\n",
              "      box-shadow: 0px 1px 2px rgba(60, 64, 67, 0.3), 0px 1px 3px 1px rgba(60, 64, 67, 0.15);\n",
              "      fill: #174EA6;\n",
              "    }\n",
              "\n",
              "    [theme=dark] .colab-df-convert {\n",
              "      background-color: #3B4455;\n",
              "      fill: #D2E3FC;\n",
              "    }\n",
              "\n",
              "    [theme=dark] .colab-df-convert:hover {\n",
              "      background-color: #434B5C;\n",
              "      box-shadow: 0px 1px 3px 1px rgba(0, 0, 0, 0.15);\n",
              "      filter: drop-shadow(0px 1px 2px rgba(0, 0, 0, 0.3));\n",
              "      fill: #FFFFFF;\n",
              "    }\n",
              "  </style>\n",
              "\n",
              "      <script>\n",
              "        const buttonEl =\n",
              "          document.querySelector('#df-4ab604d6-e109-464a-9e6c-de3a883ccce6 button.colab-df-convert');\n",
              "        buttonEl.style.display =\n",
              "          google.colab.kernel.accessAllowed ? 'block' : 'none';\n",
              "\n",
              "        async function convertToInteractive(key) {\n",
              "          const element = document.querySelector('#df-4ab604d6-e109-464a-9e6c-de3a883ccce6');\n",
              "          const dataTable =\n",
              "            await google.colab.kernel.invokeFunction('convertToInteractive',\n",
              "                                                     [key], {});\n",
              "          if (!dataTable) return;\n",
              "\n",
              "          const docLinkHtml = 'Like what you see? Visit the ' +\n",
              "            '<a target=\"_blank\" href=https://colab.research.google.com/notebooks/data_table.ipynb>data table notebook</a>'\n",
              "            + ' to learn more about interactive tables.';\n",
              "          element.innerHTML = '';\n",
              "          dataTable['output_type'] = 'display_data';\n",
              "          await google.colab.output.renderOutput(dataTable, element);\n",
              "          const docLink = document.createElement('div');\n",
              "          docLink.innerHTML = docLinkHtml;\n",
              "          element.appendChild(docLink);\n",
              "        }\n",
              "      </script>\n",
              "    </div>\n",
              "  </div>\n",
              "  "
            ]
          },
          "metadata": {},
          "execution_count": 11
        }
      ],
      "source": [
        "target_value.head(5)"
      ]
    },
    {
      "cell_type": "code",
      "execution_count": null,
      "metadata": {
        "colab": {
          "base_uri": "https://localhost:8080/",
          "height": 206
        },
        "id": "tgMWNoU2cC2M",
        "outputId": "bbd028d4-b5b4-41e1-d704-af316ae793f0"
      },
      "outputs": [
        {
          "output_type": "execute_result",
          "data": {
            "text/plain": [
              "   Index                                               code  \\\n",
              "0      1  public ActivationDescriptor()\\n{\\n_desc = new ...   \n",
              "1      2  public void Dispose()\\n{\\nDispose(true);\\nGC.S...   \n",
              "2      3     ~ActivationDescriptor()\\n{\\nDispose(false);\\n}   \n",
              "3      4  public struct BNConstants\\n{\\n/// <summary>\\n/...   \n",
              "4      5  public struct bsric02Info\\n{\\n/// <summary>\\n/...   \n",
              "\n",
              "                                             comment  label  \n",
              "0  An opaque structure holding the description of...      1  \n",
              "1                                            Dispose      1  \n",
              "2                                        For dispose      1  \n",
              "3                             Constant values for BN      0  \n",
              "4  Opaque structure holding the sparse triangular...      0  "
            ],
            "text/html": [
              "\n",
              "  <div id=\"df-41c86944-aed3-49fb-8d1c-ddcf9ab5f934\">\n",
              "    <div class=\"colab-df-container\">\n",
              "      <div>\n",
              "<style scoped>\n",
              "    .dataframe tbody tr th:only-of-type {\n",
              "        vertical-align: middle;\n",
              "    }\n",
              "\n",
              "    .dataframe tbody tr th {\n",
              "        vertical-align: top;\n",
              "    }\n",
              "\n",
              "    .dataframe thead th {\n",
              "        text-align: right;\n",
              "    }\n",
              "</style>\n",
              "<table border=\"1\" class=\"dataframe\">\n",
              "  <thead>\n",
              "    <tr style=\"text-align: right;\">\n",
              "      <th></th>\n",
              "      <th>Index</th>\n",
              "      <th>code</th>\n",
              "      <th>comment</th>\n",
              "      <th>label</th>\n",
              "    </tr>\n",
              "  </thead>\n",
              "  <tbody>\n",
              "    <tr>\n",
              "      <th>0</th>\n",
              "      <td>1</td>\n",
              "      <td>public ActivationDescriptor()\\n{\\n_desc = new ...</td>\n",
              "      <td>An opaque structure holding the description of...</td>\n",
              "      <td>1</td>\n",
              "    </tr>\n",
              "    <tr>\n",
              "      <th>1</th>\n",
              "      <td>2</td>\n",
              "      <td>public void Dispose()\\n{\\nDispose(true);\\nGC.S...</td>\n",
              "      <td>Dispose</td>\n",
              "      <td>1</td>\n",
              "    </tr>\n",
              "    <tr>\n",
              "      <th>2</th>\n",
              "      <td>3</td>\n",
              "      <td>~ActivationDescriptor()\\n{\\nDispose(false);\\n}</td>\n",
              "      <td>For dispose</td>\n",
              "      <td>1</td>\n",
              "    </tr>\n",
              "    <tr>\n",
              "      <th>3</th>\n",
              "      <td>4</td>\n",
              "      <td>public struct BNConstants\\n{\\n/// &lt;summary&gt;\\n/...</td>\n",
              "      <td>Constant values for BN</td>\n",
              "      <td>0</td>\n",
              "    </tr>\n",
              "    <tr>\n",
              "      <th>4</th>\n",
              "      <td>5</td>\n",
              "      <td>public struct bsric02Info\\n{\\n/// &lt;summary&gt;\\n/...</td>\n",
              "      <td>Opaque structure holding the sparse triangular...</td>\n",
              "      <td>0</td>\n",
              "    </tr>\n",
              "  </tbody>\n",
              "</table>\n",
              "</div>\n",
              "      <button class=\"colab-df-convert\" onclick=\"convertToInteractive('df-41c86944-aed3-49fb-8d1c-ddcf9ab5f934')\"\n",
              "              title=\"Convert this dataframe to an interactive table.\"\n",
              "              style=\"display:none;\">\n",
              "        \n",
              "  <svg xmlns=\"http://www.w3.org/2000/svg\" height=\"24px\"viewBox=\"0 0 24 24\"\n",
              "       width=\"24px\">\n",
              "    <path d=\"M0 0h24v24H0V0z\" fill=\"none\"/>\n",
              "    <path d=\"M18.56 5.44l.94 2.06.94-2.06 2.06-.94-2.06-.94-.94-2.06-.94 2.06-2.06.94zm-11 1L8.5 8.5l.94-2.06 2.06-.94-2.06-.94L8.5 2.5l-.94 2.06-2.06.94zm10 10l.94 2.06.94-2.06 2.06-.94-2.06-.94-.94-2.06-.94 2.06-2.06.94z\"/><path d=\"M17.41 7.96l-1.37-1.37c-.4-.4-.92-.59-1.43-.59-.52 0-1.04.2-1.43.59L10.3 9.45l-7.72 7.72c-.78.78-.78 2.05 0 2.83L4 21.41c.39.39.9.59 1.41.59.51 0 1.02-.2 1.41-.59l7.78-7.78 2.81-2.81c.8-.78.8-2.07 0-2.86zM5.41 20L4 18.59l7.72-7.72 1.47 1.35L5.41 20z\"/>\n",
              "  </svg>\n",
              "      </button>\n",
              "      \n",
              "  <style>\n",
              "    .colab-df-container {\n",
              "      display:flex;\n",
              "      flex-wrap:wrap;\n",
              "      gap: 12px;\n",
              "    }\n",
              "\n",
              "    .colab-df-convert {\n",
              "      background-color: #E8F0FE;\n",
              "      border: none;\n",
              "      border-radius: 50%;\n",
              "      cursor: pointer;\n",
              "      display: none;\n",
              "      fill: #1967D2;\n",
              "      height: 32px;\n",
              "      padding: 0 0 0 0;\n",
              "      width: 32px;\n",
              "    }\n",
              "\n",
              "    .colab-df-convert:hover {\n",
              "      background-color: #E2EBFA;\n",
              "      box-shadow: 0px 1px 2px rgba(60, 64, 67, 0.3), 0px 1px 3px 1px rgba(60, 64, 67, 0.15);\n",
              "      fill: #174EA6;\n",
              "    }\n",
              "\n",
              "    [theme=dark] .colab-df-convert {\n",
              "      background-color: #3B4455;\n",
              "      fill: #D2E3FC;\n",
              "    }\n",
              "\n",
              "    [theme=dark] .colab-df-convert:hover {\n",
              "      background-color: #434B5C;\n",
              "      box-shadow: 0px 1px 3px 1px rgba(0, 0, 0, 0.15);\n",
              "      filter: drop-shadow(0px 1px 2px rgba(0, 0, 0, 0.3));\n",
              "      fill: #FFFFFF;\n",
              "    }\n",
              "  </style>\n",
              "\n",
              "      <script>\n",
              "        const buttonEl =\n",
              "          document.querySelector('#df-41c86944-aed3-49fb-8d1c-ddcf9ab5f934 button.colab-df-convert');\n",
              "        buttonEl.style.display =\n",
              "          google.colab.kernel.accessAllowed ? 'block' : 'none';\n",
              "\n",
              "        async function convertToInteractive(key) {\n",
              "          const element = document.querySelector('#df-41c86944-aed3-49fb-8d1c-ddcf9ab5f934');\n",
              "          const dataTable =\n",
              "            await google.colab.kernel.invokeFunction('convertToInteractive',\n",
              "                                                     [key], {});\n",
              "          if (!dataTable) return;\n",
              "\n",
              "          const docLinkHtml = 'Like what you see? Visit the ' +\n",
              "            '<a target=\"_blank\" href=https://colab.research.google.com/notebooks/data_table.ipynb>data table notebook</a>'\n",
              "            + ' to learn more about interactive tables.';\n",
              "          element.innerHTML = '';\n",
              "          dataTable['output_type'] = 'display_data';\n",
              "          await google.colab.output.renderOutput(dataTable, element);\n",
              "          const docLink = document.createElement('div');\n",
              "          docLink.innerHTML = docLinkHtml;\n",
              "          element.appendChild(docLink);\n",
              "        }\n",
              "      </script>\n",
              "    </div>\n",
              "  </div>\n",
              "  "
            ]
          },
          "metadata": {},
          "execution_count": 12
        }
      ],
      "source": [
        "df.head(5)"
      ]
    },
    {
      "cell_type": "code",
      "execution_count": null,
      "metadata": {
        "colab": {
          "base_uri": "https://localhost:8080/"
        },
        "id": "vxKPXcU9A1K9",
        "outputId": "f87ee04a-9f81-4b04-8c25-7c69baac38b3"
      },
      "outputs": [
        {
          "output_type": "stream",
          "name": "stdout",
          "text": [
            "Looking in indexes: https://pypi.org/simple, https://us-python.pkg.dev/colab-wheels/public/simple/\n",
            "Collecting stopwordsiso\n",
            "  Downloading stopwordsiso-0.6.1-py3-none-any.whl (73 kB)\n",
            "\u001b[K     |████████████████████████████████| 73 kB 1.5 MB/s \n",
            "\u001b[?25hInstalling collected packages: stopwordsiso\n",
            "Successfully installed stopwordsiso-0.6.1\n"
          ]
        },
        {
          "output_type": "stream",
          "name": "stderr",
          "text": [
            "[nltk_data] Downloading package wordnet to /root/nltk_data...\n"
          ]
        }
      ],
      "source": [
        "!pip install stopwordsiso\n",
        "import stopwordsiso as stopwords\n",
        "\n",
        "stop_words = stopwords.stopwords(\"en\")\n",
        "# print(stop_words)\n",
        "\n",
        "from nltk.stem import PorterStemmer\n",
        "stemmer = PorterStemmer()\n",
        "\n",
        "import nltk\n",
        "nltk.download('wordnet')\n",
        "from nltk.stem import WordNetLemmatizer\n",
        "lemmatizer = WordNetLemmatizer()"
      ]
    },
    {
      "cell_type": "markdown",
      "metadata": {
        "id": "sG6CD6IyA1LF"
      },
      "source": [
        "# **Function Declaration**"
      ]
    },
    {
      "cell_type": "markdown",
      "metadata": {
        "id": "GlYYJPVUA1LG"
      },
      "source": [
        "**Data Cleaning**"
      ]
    },
    {
      "cell_type": "code",
      "execution_count": null,
      "metadata": {
        "id": "DJ2EgyTLrGrb"
      },
      "outputs": [],
      "source": [
        "stop_words.add('')"
      ]
    },
    {
      "cell_type": "code",
      "execution_count": null,
      "metadata": {
        "id": "Luc-YpVLA1LI"
      },
      "outputs": [],
      "source": [
        "def cleaning(data):\n",
        "  data = data.str.replace('[^\\w\\s]','')\n",
        "  data = data.replace('/+','', regex=True)\n",
        "  data = data.replace('\\n','', regex=True)\n",
        "  data = data.replace('\\t','', regex=True)\n",
        "  data = data.replace('_','', regex=True)\n",
        "  data = data.replace('public','', regex=True)\n",
        "  data = data.replace('void','', regex=True)\n",
        "  data = data.replace('static','', regex=True)\n",
        "  data = data.replace('class','', regex=True)\n",
        "  data = data.str.split(' ')\n",
        "  data = data.apply(lambda x: [item for item in x if item not in stop_words])\n",
        "  #data = data.apply(lambda x: [stemmer.stem(y) for y in x])\n",
        "  data = data.apply(lambda x: [lemmatizer.lemmatize(y) for y in x])\n",
        "  return data"
      ]
    },
    {
      "cell_type": "code",
      "execution_count": null,
      "metadata": {
        "id": "wyIt-NqKRSbG"
      },
      "outputs": [],
      "source": [
        "# x=cleaning(df)\n",
        "#x.head(5)"
      ]
    },
    {
      "cell_type": "markdown",
      "metadata": {
        "id": "_Pf7Ssy3A1LQ"
      },
      "source": [
        "**CountVectorizer for train data**"
      ]
    },
    {
      "cell_type": "code",
      "execution_count": null,
      "metadata": {
        "id": "q7aAhRZ0A1LR"
      },
      "outputs": [],
      "source": [
        "def CV_train(text):\n",
        "  count_vectorizer = CountVectorizer(stop_words='english', max_features=40000)\n",
        "  document_term_matrix = count_vectorizer.fit_transform(text)\n",
        "  return count_vectorizer, document_term_matrix"
      ]
    },
    {
      "cell_type": "markdown",
      "metadata": {
        "id": "hPyahoIlA1LU"
      },
      "source": [
        "**CountVectorizer for test data**"
      ]
    },
    {
      "cell_type": "code",
      "execution_count": null,
      "metadata": {
        "id": "HbjE4-psA1LU"
      },
      "outputs": [],
      "source": [
        "def CV_test(count_vectorizer, text):\n",
        "  document_term_matrix = count_vectorizer.transform(text)\n",
        "  return document_term_matrix"
      ]
    },
    {
      "cell_type": "markdown",
      "metadata": {
        "id": "VPjrJJ7dA1LW"
      },
      "source": [
        "**LDA( Topic Modeling Technique) for train data**"
      ]
    },
    {
      "cell_type": "code",
      "execution_count": null,
      "metadata": {
        "id": "Vkp9_ARzA1LX"
      },
      "outputs": [],
      "source": [
        "def LDA_train(n_topics, document_term_matrix):\n",
        "  lda_model = LatentDirichletAllocation(n_components=n_topics, learning_method='online', random_state=0, verbose=0)\n",
        "  lda_topic_matrix = lda_model.fit_transform(document_term_matrix)\n",
        "  return lda_model, lda_topic_matrix"
      ]
    },
    {
      "cell_type": "markdown",
      "metadata": {
        "id": "P2DG1JxeA1LX"
      },
      "source": [
        "**LDA( Topic Modeling Technique) for test data**"
      ]
    },
    {
      "cell_type": "code",
      "execution_count": null,
      "metadata": {
        "id": "HiXGobitA1LZ"
      },
      "outputs": [],
      "source": [
        "def LDA_test(lda_model, n_topics, document_term_matrix):\n",
        "  lda_topic_matrix = lda_model.transform(document_term_matrix)\n",
        "  return lda_topic_matrix"
      ]
    },
    {
      "cell_type": "markdown",
      "metadata": {
        "id": "XFA5bSa4A1Ld"
      },
      "source": [
        "**Feature Concatination**"
      ]
    },
    {
      "cell_type": "code",
      "execution_count": null,
      "metadata": {
        "id": "49a4qHeKA1Ld"
      },
      "outputs": [],
      "source": [
        "def get_concatenated_features(comment_vec_matrix, code_vec_matrix):\n",
        "  Concatenated_Features_array= []\n",
        "  for x in range(len(code_vec_matrix)):\n",
        "    row_array = []\n",
        "    for y in range(len(code_vec_matrix[0])):\n",
        "      row_array.append(code_vec_matrix[x][y])\n",
        "      row_array.append(comment_vec_matrix[x][y])\n",
        "    Concatenated_Features_array.append(row_array)\n",
        "  return Concatenated_Features_array"
      ]
    },
    {
      "cell_type": "markdown",
      "metadata": {
        "id": "H76PKwbaA1Le"
      },
      "source": [
        "**Random Forest model fit on train data**"
      ]
    },
    {
      "cell_type": "code",
      "execution_count": null,
      "metadata": {
        "id": "lUaCMDgcA1Le"
      },
      "outputs": [],
      "source": [
        "from sklearn.ensemble import RandomForestClassifier\n",
        "def RF_Inference_train(concat_feature, target_value):\n",
        "  model = RandomForestClassifier(n_estimators=100, \n",
        "                               bootstrap = True,\n",
        "                               max_features = 'sqrt')\n",
        "  model.fit(concat_feature, target_value)\n",
        "  probablities = model.predict_proba(concat_feature)\n",
        "  return model, probablities"
      ]
    },
    {
      "cell_type": "markdown",
      "metadata": {
        "id": "1pKTq50XA1Lf"
      },
      "source": [
        "**Random Forest model transform on test data using probability**"
      ]
    },
    {
      "cell_type": "code",
      "execution_count": null,
      "metadata": {
        "id": "VYPclbIvA1Lf"
      },
      "outputs": [],
      "source": [
        "from sklearn.ensemble import RandomForestClassifier\n",
        "def RF_Inference_test(model, concat_feature):\n",
        "  probablities = model.predict_proba(concat_feature)\n",
        "  return probablities"
      ]
    },
    {
      "cell_type": "markdown",
      "metadata": {
        "id": "0uTNZF3sA1Lg"
      },
      "source": [
        "# Function Calls after using stratified kfold"
      ]
    },
    {
      "cell_type": "code",
      "execution_count": null,
      "metadata": {
        "colab": {
          "base_uri": "https://localhost:8080/"
        },
        "id": "sEG4kVKDA1Lg",
        "outputId": "bf79c076-af28-4628-ee90-6fd72f1b705e"
      },
      "outputs": [
        {
          "output_type": "stream",
          "name": "stdout",
          "text": [
            "TRAIN: (3446,) TEST: (383,)\n",
            "      Label\n",
            "0         1\n",
            "1         1\n",
            "2         1\n",
            "3         1\n",
            "4         1\n",
            "..      ...\n",
            "378       0\n",
            "379       0\n",
            "380       0\n",
            "381       0\n",
            "382       0\n",
            "\n",
            "[383 rows x 1 columns]\n",
            "              precision    recall  f1-score   support\n",
            "\n",
            "           0       0.92      0.92      0.92       111\n",
            "           1       0.97      0.97      0.97       272\n",
            "\n",
            "    accuracy                           0.95       383\n",
            "   macro avg       0.94      0.94      0.94       383\n",
            "weighted avg       0.95      0.95      0.95       383\n",
            "\n",
            "roc_auc score: 0.9429153418124006\n",
            "precision: 0.9669117647058824\n",
            "recall: 0.9669117647058824\n",
            "TRAIN: (3446,) TEST: (383,)\n",
            "      Label\n",
            "0         1\n",
            "1         1\n",
            "2         1\n",
            "3         1\n",
            "4         1\n",
            "..      ...\n",
            "378       0\n",
            "379       0\n",
            "380       0\n",
            "381       0\n",
            "382       0\n",
            "\n",
            "[383 rows x 1 columns]\n",
            "              precision    recall  f1-score   support\n",
            "\n",
            "           0       0.96      0.89      0.93       111\n",
            "           1       0.96      0.99      0.97       272\n",
            "\n",
            "    accuracy                           0.96       383\n",
            "   macro avg       0.96      0.94      0.95       383\n",
            "weighted avg       0.96      0.96      0.96       383\n",
            "\n",
            "roc_auc score: 0.9385930047694754\n",
            "precision: 0.9571428571428572\n",
            "recall: 0.9852941176470589\n",
            "TRAIN: (3446,) TEST: (383,)\n",
            "      Label\n",
            "0         0\n",
            "1         0\n",
            "2         0\n",
            "3         0\n",
            "4         1\n",
            "..      ...\n",
            "378       0\n",
            "379       0\n",
            "380       0\n",
            "381       0\n",
            "382       0\n",
            "\n",
            "[383 rows x 1 columns]\n",
            "              precision    recall  f1-score   support\n",
            "\n",
            "           0       0.90      0.94      0.92       111\n",
            "           1       0.97      0.96      0.97       272\n",
            "\n",
            "    accuracy                           0.95       383\n",
            "   macro avg       0.94      0.95      0.94       383\n",
            "weighted avg       0.95      0.95      0.95       383\n",
            "\n",
            "roc_auc score: 0.9482478802331743\n",
            "precision: 0.9738805970149254\n",
            "recall: 0.9595588235294118\n",
            "TRAIN: (3446,) TEST: (383,)\n",
            "      Label\n",
            "0         1\n",
            "1         1\n",
            "2         1\n",
            "3         0\n",
            "4         1\n",
            "..      ...\n",
            "378       0\n",
            "379       0\n",
            "380       0\n",
            "381       0\n",
            "382       0\n",
            "\n",
            "[383 rows x 1 columns]\n",
            "              precision    recall  f1-score   support\n",
            "\n",
            "           0       0.95      0.92      0.94       111\n",
            "           1       0.97      0.98      0.97       272\n",
            "\n",
            "    accuracy                           0.96       383\n",
            "   macro avg       0.96      0.95      0.96       383\n",
            "weighted avg       0.96      0.96      0.96       383\n",
            "\n",
            "roc_auc score: 0.950268282988871\n",
            "precision: 0.967391304347826\n",
            "recall: 0.9816176470588235\n",
            "TRAIN: (3446,) TEST: (383,)\n",
            "      Label\n",
            "0         1\n",
            "1         1\n",
            "2         1\n",
            "3         1\n",
            "4         1\n",
            "..      ...\n",
            "378       0\n",
            "379       0\n",
            "380       0\n",
            "381       0\n",
            "382       0\n",
            "\n",
            "[383 rows x 1 columns]\n",
            "              precision    recall  f1-score   support\n",
            "\n",
            "           0       0.94      0.91      0.93       111\n",
            "           1       0.96      0.98      0.97       272\n",
            "\n",
            "    accuracy                           0.96       383\n",
            "   macro avg       0.95      0.94      0.95       383\n",
            "weighted avg       0.96      0.96      0.96       383\n",
            "\n",
            "roc_auc score: 0.9439255431902491\n",
            "precision: 0.9637681159420289\n",
            "recall: 0.9779411764705882\n",
            "TRAIN: (3446,) TEST: (383,)\n",
            "      Label\n",
            "0         1\n",
            "1         1\n",
            "2         1\n",
            "3         0\n",
            "4         1\n",
            "..      ...\n",
            "378       0\n",
            "379       0\n",
            "380       0\n",
            "381       0\n",
            "382       0\n",
            "\n",
            "[383 rows x 1 columns]\n",
            "              precision    recall  f1-score   support\n",
            "\n",
            "           0       0.93      0.95      0.94       111\n",
            "           1       0.98      0.97      0.97       272\n",
            "\n",
            "    accuracy                           0.96       383\n",
            "   macro avg       0.95      0.96      0.96       383\n",
            "weighted avg       0.96      0.96      0.96       383\n",
            "\n",
            "roc_auc score: 0.9582670906200318\n",
            "precision: 0.9777777777777777\n",
            "recall: 0.9705882352941176\n",
            "TRAIN: (3446,) TEST: (383,)\n",
            "      Label\n",
            "0         0\n",
            "1         1\n",
            "2         0\n",
            "3         1\n",
            "4         1\n",
            "..      ...\n",
            "378       0\n",
            "379       0\n",
            "380       0\n",
            "381       0\n",
            "382       0\n",
            "\n",
            "[383 rows x 1 columns]\n",
            "              precision    recall  f1-score   support\n",
            "\n",
            "           0       0.95      0.92      0.94       111\n",
            "           1       0.97      0.98      0.97       272\n",
            "\n",
            "    accuracy                           0.96       383\n",
            "   macro avg       0.96      0.95      0.96       383\n",
            "weighted avg       0.96      0.96      0.96       383\n",
            "\n",
            "roc_auc score: 0.950268282988871\n",
            "precision: 0.967391304347826\n",
            "recall: 0.9816176470588235\n",
            "TRAIN: (3446,) TEST: (383,)\n",
            "      Label\n",
            "0         0\n",
            "1         1\n",
            "2         1\n",
            "3         1\n",
            "4         1\n",
            "..      ...\n",
            "378       0\n",
            "379       0\n",
            "380       0\n",
            "381       0\n",
            "382       0\n",
            "\n",
            "[383 rows x 1 columns]\n",
            "              precision    recall  f1-score   support\n",
            "\n",
            "           0       0.97      0.89      0.93       111\n",
            "           1       0.96      0.99      0.97       272\n",
            "\n",
            "    accuracy                           0.96       383\n",
            "   macro avg       0.96      0.94      0.95       383\n",
            "weighted avg       0.96      0.96      0.96       383\n",
            "\n",
            "roc_auc score: 0.940431240063593\n",
            "precision: 0.9572953736654805\n",
            "recall: 0.9889705882352942\n",
            "TRAIN: (3446,) TEST: (383,)\n",
            "      Label\n",
            "0         0\n",
            "1         1\n",
            "2         1\n",
            "3         1\n",
            "4         1\n",
            "..      ...\n",
            "378       0\n",
            "379       0\n",
            "380       0\n",
            "381       0\n",
            "382       0\n",
            "\n",
            "[383 rows x 1 columns]\n",
            "              precision    recall  f1-score   support\n",
            "\n",
            "           0       0.97      0.94      0.95       111\n",
            "           1       0.97      0.99      0.98       272\n",
            "\n",
            "    accuracy                           0.97       383\n",
            "   macro avg       0.97      0.96      0.97       383\n",
            "weighted avg       0.97      0.97      0.97       383\n",
            "\n",
            "roc_auc score: 0.9629537625861155\n",
            "precision: 0.9746376811594203\n",
            "recall: 0.9889705882352942\n",
            "TRAIN: (3447,) TEST: (382,)\n",
            "      Label\n",
            "0         0\n",
            "1         0\n",
            "2         1\n",
            "3         0\n",
            "4         1\n",
            "..      ...\n",
            "377       0\n",
            "378       0\n",
            "379       0\n",
            "380       0\n",
            "381       0\n",
            "\n",
            "[382 rows x 1 columns]\n",
            "              precision    recall  f1-score   support\n",
            "\n",
            "           0       0.95      0.88      0.92       111\n",
            "           1       0.95      0.98      0.97       271\n",
            "\n",
            "    accuracy                           0.95       382\n",
            "   macro avg       0.95      0.93      0.94       382\n",
            "weighted avg       0.95      0.95      0.95       382\n",
            "\n",
            "roc_auc score: 0.9322163491905189\n",
            "precision: 0.953405017921147\n",
            "recall: 0.981549815498155\n"
          ]
        }
      ],
      "source": [
        "accuracies = []\n",
        "roc_auc =[]\n",
        "precision = []\n",
        "recall = []\n",
        "\n",
        "X = df.to_numpy()\n",
        "y = target_value['label'].to_numpy()\n",
        "\n",
        "skf = StratifiedKFold(n_splits=10, random_state=1, shuffle=True)\n",
        "#skf = StratifiedKFold(n_splits=2, random_state=1, shuffle=True)\n",
        "for train_index, test_index in skf.split(X, y):\n",
        "    print(\"TRAIN:\", train_index.shape, \"TEST:\", test_index.shape)\n",
        "    train_X, test_X = pd.DataFrame(X[train_index], columns=df.columns), pd.DataFrame(X[test_index], columns=df.columns)\n",
        "    train_y, test_y = pd.DataFrame(y[train_index], columns=[' Label']), pd.DataFrame(y[test_index], columns=[' Label'])\n",
        "\n",
        "    train_X['code'] = train_X['code'].astype(str)\n",
        "    train_X['comment'] = train_X['comment'].astype(str)\n",
        "\n",
        "    test_X['code'] = test_X['code'].astype(str)\n",
        "    test_X['comment'] = test_X['comment'].astype(str)\n",
        "\n",
        "    #function calls\n",
        "\n",
        "    train_X['code'] = cleaning(train_X['code']).astype(str)\n",
        "    train_X['comment'] = cleaning(train_X['comment']).astype(str)\n",
        "\n",
        "\n",
        "    test_X['code'] = cleaning(test_X['code']).astype(str)\n",
        "    test_X['comment'] = cleaning(test_X['comment']).astype(str)\n",
        "\n",
        "    #CV for train data\n",
        "    comment_cv_model, comment_matrix_train = CV_train(train_X[\"comment\"])\n",
        "    code_cv_model, code_matrix_train = CV_train(train_X[\"code\"])\n",
        "\n",
        "    #CV for test data\n",
        "    comment_matrix_test = CV_test(comment_cv_model, test_X[\"comment\"])\n",
        "    code_matrix_test = CV_test(code_cv_model, test_X[\"code\"])\n",
        "\n",
        "    #for LDA and concatenated features\n",
        "    comment_lda_models_train = []\n",
        "    code_lda_models_train = []\n",
        "\n",
        "    rf_models_train = []\n",
        "\n",
        "    proba_list_train = []\n",
        "    for i in range(5, 26):\n",
        "        comment_lda_model, comment_LDA_train = LDA_train(i, comment_matrix_train)\n",
        "        comment_lda_models_train.append(comment_lda_model)\n",
        "        code_lda_model, code_LDA_train = LDA_train(i, code_matrix_train)\n",
        "        code_lda_models_train.append(code_lda_model)\n",
        "        features = get_concatenated_features(comment_LDA_train, code_LDA_train)\n",
        "        rf_model, proba = RF_Inference_train(features, train_y)\n",
        "        rf_models_train.append(rf_model)\n",
        "        proba_list_train.append(proba)\n",
        "    \n",
        "    proba_list_test = []\n",
        "    for i in range(5, 26):\n",
        "        comment_LDA_test = LDA_test(comment_lda_models_train[i-5], i, comment_matrix_test)\n",
        "        code_LDA_test = LDA_test(code_lda_models_train[i-5], i, code_matrix_test)\n",
        "        features = get_concatenated_features(comment_LDA_test, code_LDA_test)\n",
        "        proba_test = RF_Inference_test(rf_models_train[i-5], features)\n",
        "        proba_list_test.append(proba_test)\n",
        "\n",
        "    rf5 = proba_list_train[0][:,1]\n",
        "    rf6 = proba_list_train[1][:,1]\n",
        "    rf7 = proba_list_train[2][:,1]\n",
        "    rf8 = proba_list_train[3][:,1]\n",
        "    rf9 = proba_list_train[4][:,1]\n",
        "    rf10 = proba_list_train[5][:,1]\n",
        "    rf11 = proba_list_train[6][:,1]\n",
        "    rf12 = proba_list_train[7][:,1]\n",
        "    rf13 = proba_list_train[8][:,1]\n",
        "    rf14 = proba_list_train[9][:,1]\n",
        "    rf15 = proba_list_train[10][:,1]\n",
        "    rf16 = proba_list_train[11][:,1]\n",
        "    rf17 = proba_list_train[12][:,1]\n",
        "    rf18 = proba_list_train[13][:,1]\n",
        "    rf19 = proba_list_train[14][:,1]\n",
        "    rf20 = proba_list_train[15][:,1]\n",
        "    rf21 = proba_list_train[16][:,1]\n",
        "    rf22 = proba_list_train[17][:,1]\n",
        "    rf23 = proba_list_train[18][:,1]\n",
        "    rf24 = proba_list_train[19][:,1]\n",
        "    rf25 = proba_list_train[20][:,1]\n",
        "\n",
        "    #for train data\n",
        "    df_rf_train = pd.DataFrame(list(zip(rf5, rf6, rf7, rf8, rf9, rf10, rf11, rf12, \\\n",
        "                                        rf13, rf14, rf15, rf16, rf17, rf18, rf19, \\\n",
        "                                        rf20, rf21, rf22, rf23, rf24, rf25\\\n",
        "                                        )), columns =['rf5', 'rf6', 'rf7', 'rf8', \\\n",
        "                                                      'rf9', 'rf10', 'rf11', 'rf12', \\\n",
        "                                                      'rf13', 'rf14', 'rf15', 'rf16', \\\n",
        "                                                      'rf17', 'rf18', 'rf19', 'rf20', \\\n",
        "                                                      'rf21', 'rf22', 'rf23', 'rf24', 'rf25'])\n",
        "    \n",
        "    \n",
        "    # all parameters not specified are set to their defaults\n",
        "    logisticRegr = LogisticRegression()\n",
        "    logisticRegr.fit(df_rf_train, train_y)\n",
        "\n",
        "    #for test data\n",
        "    rf5 = proba_list_test[0][:,1]\n",
        "    rf6 = proba_list_test[1][:,1]\n",
        "    rf7 = proba_list_test[2][:,1]\n",
        "    rf8 = proba_list_test[3][:,1]\n",
        "    rf9 = proba_list_test[4][:,1]\n",
        "    rf10 = proba_list_test[5][:,1]\n",
        "    rf11 = proba_list_test[6][:,1]\n",
        "    rf12 = proba_list_test[7][:,1]\n",
        "    rf13 = proba_list_test[8][:,1]\n",
        "    rf14 = proba_list_test[9][:,1]\n",
        "    rf15 = proba_list_test[10][:,1]\n",
        "    rf16 = proba_list_test[11][:,1]\n",
        "    rf17 = proba_list_test[12][:,1]\n",
        "    rf18 = proba_list_test[13][:,1]\n",
        "    rf19 = proba_list_test[14][:,1]\n",
        "    rf20 = proba_list_test[15][:,1]\n",
        "    rf21 = proba_list_test[16][:,1]\n",
        "    rf22 = proba_list_test[17][:,1]\n",
        "    rf23 = proba_list_test[18][:,1]\n",
        "    rf24 = proba_list_test[19][:,1]\n",
        "    rf25 = proba_list_test[20][:,1]\n",
        "\n",
        "    df_rf_test = pd.DataFrame(list(zip(rf5, rf6, rf7, rf8, rf9, rf10, rf11, rf12, rf13, rf14, rf15, rf16,\\\n",
        "                         rf17, rf18, rf19, rf20, rf21, rf22, rf23, rf24, rf25)),\n",
        "               columns =['rf5', 'rf6', 'rf7', 'rf8', 'rf9', 'rf10', 'rf11', 'rf12', 'rf13', 'rf14', 'rf15', 'rf16',\\\n",
        "                         'rf17', 'rf18', 'rf19', 'rf20', 'rf21', 'rf22', 'rf23', 'rf24', 'rf25'])\n",
        "    print(test_y)\n",
        "    #roc_auc_y = test_y.loc[:,'label'] = test_y.label.map({'NOT_COHERENT':0, 'COHERENT':1})\n",
        "    accuracies.append(accuracy_score(test_y, logisticRegr.predict(df_rf_test)))\n",
        "    roc_auc.append(roc_auc_score(test_y, logisticRegr.predict(df_rf_test)))\n",
        "    precision.append(precision_score(test_y, logisticRegr.predict(df_rf_test)))\n",
        "    recall.append(recall_score(test_y, logisticRegr.predict(df_rf_test)))\n",
        "\n",
        "    print(classification_report(test_y,logisticRegr.predict(df_rf_test)))\n",
        "    print(f'roc_auc score: {roc_auc_score(test_y,logisticRegr.predict(df_rf_test))}')\n",
        "    print(f'precision: {precision_score(test_y, logisticRegr.predict(df_rf_test))}')\n",
        "    print(f'recall: {recall_score(test_y, logisticRegr.predict(df_rf_test))}')"
      ]
    },
    {
      "cell_type": "code",
      "execution_count": null,
      "metadata": {
        "colab": {
          "base_uri": "https://localhost:8080/"
        },
        "id": "UGWb6gJxA1Li",
        "outputId": "e4126693-c075-49de-d882-efebb5fcae35"
      },
      "outputs": [
        {
          "output_type": "stream",
          "name": "stdout",
          "text": [
            "accuracies:[0.9530026109660574, 0.95822454308094, 0.9530026109660574, 0.9634464751958225, 0.95822454308094, 0.9634464751958225, 0.9634464751958225, 0.9608355091383812, 0.9738903394255874, 0.9528795811518325]\n"
          ]
        }
      ],
      "source": [
        "print(f'accuracies:{accuracies}')"
      ]
    },
    {
      "cell_type": "code",
      "execution_count": null,
      "metadata": {
        "colab": {
          "base_uri": "https://localhost:8080/"
        },
        "id": "2y2MsPoH8cX3",
        "outputId": "a48389b4-1e16-4854-8559-9c81785482fb"
      },
      "outputs": [
        {
          "output_type": "stream",
          "name": "stdout",
          "text": [
            "roc_auc scores:[0.9429153418124006, 0.9385930047694754, 0.9482478802331743, 0.950268282988871, 0.9439255431902491, 0.9582670906200318, 0.950268282988871, 0.940431240063593, 0.9629537625861155, 0.9322163491905189]\n"
          ]
        }
      ],
      "source": [
        "print(f'roc_auc scores:{roc_auc}')"
      ]
    },
    {
      "cell_type": "code",
      "execution_count": null,
      "metadata": {
        "colab": {
          "base_uri": "https://localhost:8080/"
        },
        "id": "hDLeTV1GHaMS",
        "outputId": "327f87ba-17da-4bcd-c7fa-9c8218bd4f69"
      },
      "outputs": [
        {
          "output_type": "stream",
          "name": "stdout",
          "text": [
            "precision scores: [0.9669117647058824, 0.9571428571428572, 0.9738805970149254, 0.967391304347826, 0.9637681159420289, 0.9777777777777777, 0.967391304347826, 0.9572953736654805, 0.9746376811594203, 0.953405017921147]\n"
          ]
        }
      ],
      "source": [
        "print(f'precision scores: {precision}')"
      ]
    },
    {
      "cell_type": "code",
      "execution_count": null,
      "metadata": {
        "colab": {
          "base_uri": "https://localhost:8080/"
        },
        "id": "QXDJw81HHa36",
        "outputId": "614523e0-281f-4b0b-a5fe-3e72ca86d9e6"
      },
      "outputs": [
        {
          "output_type": "stream",
          "name": "stdout",
          "text": [
            "recall scores: [0.9669117647058824, 0.9852941176470589, 0.9595588235294118, 0.9816176470588235, 0.9779411764705882, 0.9705882352941176, 0.9816176470588235, 0.9889705882352942, 0.9889705882352942, 0.981549815498155]\n"
          ]
        }
      ],
      "source": [
        "print(f'recall scores: {recall}')"
      ]
    },
    {
      "cell_type": "markdown",
      "metadata": {
        "id": "e4SU00WrA1Lj"
      },
      "source": [
        "# 1-gram individual BLEU"
      ]
    },
    {
      "cell_type": "code",
      "execution_count": null,
      "metadata": {
        "id": "jJnVdORqA1Lz"
      },
      "outputs": [],
      "source": [
        "# from nltk.translate.bleu_score import sentence_bleu\n",
        "# scores = []\n",
        "# for index, rows in df.iterrows():\n",
        "#     reference = [str(rows['code']).split()]\n",
        "#     candidate = str(rows['comment']).split()\n",
        "#     scores.append(sentence_bleu(reference, candidate))\n",
        "#     print(f\"Label : {rows['label']} vs BLEU SCORE: {scores}\")"
      ]
    },
    {
      "cell_type": "markdown",
      "metadata": {
        "id": "6iIEg859A1Lz"
      },
      "source": [
        "**To generate the CSV file of BLEU Score**"
      ]
    },
    {
      "cell_type": "code",
      "execution_count": null,
      "metadata": {
        "id": "w0nHJX78A1L0"
      },
      "outputs": [],
      "source": [
        "# bleu_csv = pd.DataFrame()\n",
        "\n",
        "# bleu_csv['code'] = df['code']\n",
        "# bleu_csv['comment'] = df['comment']\n",
        "# bleu_csv['label'] = df['label']\n",
        "# bleu_csv['bleu_score'] = scores\n",
        "\n",
        "# bleu_csv.head(10)\n",
        "\n",
        "# bleu_csv.to_csv(\"bleu_score_1.csv\")"
      ]
    },
    {
      "cell_type": "markdown",
      "metadata": {
        "id": "ZhXtHmq4_B6c"
      },
      "source": [
        "#2-gram BLEU Score"
      ]
    },
    {
      "cell_type": "code",
      "execution_count": null,
      "metadata": {
        "id": "rFtqbFRk_Pw1"
      },
      "outputs": [],
      "source": [
        "# n-gram individual BLEU\n",
        "# from nltk.translate.bleu_score import sentence_bleu\n",
        "# reference = [['this', 'is', 'a', 'test']]\n",
        "# candidate = ['this', 'is', 'a', 'test']\n",
        "# print('Individual 1-gram: %f' % sentence_bleu(reference, candidate, weights=(1, 0, 0, 0)))\n",
        "# print('Individual 2-gram: %f' % sentence_bleu(reference, candidate, weights=(0, 1, 0, 0)))\n",
        "# print('Individual 3-gram: %f' % sentence_bleu(reference, candidate, weights=(0, 0, 1, 0)))\n",
        "# print('Individual 4-gram: %f' % sentence_bleu(reference, candidate, weights=(0, 0, 0, 1)))"
      ]
    },
    {
      "cell_type": "code",
      "execution_count": null,
      "metadata": {
        "id": "byMA_w_t_YaM"
      },
      "outputs": [],
      "source": [
        "# scores = []\n",
        "# for index, rows in df.iterrows():\n",
        "#     reference = [str(rows['code']).split()]\n",
        "#     candidate = str(rows['comment']).split()\n",
        "#     scores.append(sentence_bleu(reference, candidate, weights=(0, 1, 0, 0)))\n",
        "#     print(f\"Label : {rows['label']} vs BLEU SCORE: {scores}\")"
      ]
    },
    {
      "cell_type": "code",
      "execution_count": null,
      "metadata": {
        "id": "R6Pj7WWw_jU0"
      },
      "outputs": [],
      "source": [
        "# bleu_csv = pd.DataFrame()\n",
        "\n",
        "# bleu_csv['code'] = df['code']\n",
        "# bleu_csv['comment'] = df['comment']\n",
        "# bleu_csv['label'] = df['label']\n",
        "# bleu_csv['bleu_score'] = scores\n",
        "\n",
        "# bleu_csv.head(10)\n",
        "\n",
        "# bleu_csv.to_csv(\"bleu_score_2.csv\")"
      ]
    },
    {
      "cell_type": "markdown",
      "metadata": {
        "id": "ZEdaR5454r68"
      },
      "source": [
        "#k-Alpha"
      ]
    },
    {
      "cell_type": "code",
      "execution_count": null,
      "metadata": {
        "id": "Y5x7NluH4tyj"
      },
      "outputs": [],
      "source": [
        "# !pip install simpledorff"
      ]
    },
    {
      "cell_type": "code",
      "execution_count": null,
      "metadata": {
        "id": "dkdsgfM549Tu"
      },
      "outputs": [],
      "source": [
        "# ann_1 = pd.read_csv('annotator1.csv')\n",
        "# ann_1['pair_id'] = ann_1.index\n",
        "# ann_1.rename(columns = {'Label(Lima)':'label'}, inplace = True)\n",
        "# ann_1['annotator_id'] = 'Lima'\n",
        "# ann_1.head(5)"
      ]
    },
    {
      "cell_type": "code",
      "execution_count": null,
      "metadata": {
        "id": "mHDkY1LN5RrY"
      },
      "outputs": [],
      "source": [
        "# ann_2 = pd.read_csv('annotator2.csv')\n",
        "# ann_2['pair_id'] = ann_2.index\n",
        "# ann_2.rename(columns = {'Label(Talha)':'label'}, inplace = True)\n",
        "# ann_2['annotator_id'] = 'Talha'\n",
        "# ann_2.head(5)"
      ]
    },
    {
      "cell_type": "code",
      "execution_count": null,
      "metadata": {
        "id": "betB4wND5SQH"
      },
      "outputs": [],
      "source": [
        "# ann_3 = pd.read_csv('annotator3.csv')\n",
        "# ann_3['pair_id'] = ann_3.index\n",
        "# ann_3.rename(columns = {'Label(Safayat)':'label'}, inplace = True)\n",
        "# ann_3['annotator_id'] = 'Safayat'\n",
        "# ann_3.head(5)"
      ]
    },
    {
      "cell_type": "code",
      "execution_count": null,
      "metadata": {
        "id": "fnUp2TFtylRw"
      },
      "outputs": [],
      "source": [
        "# merged = pd.merge(ann_1, ann_2, on=['label', 'pair_id', 'annotator_id'], how='outer')"
      ]
    },
    {
      "cell_type": "code",
      "execution_count": null,
      "metadata": {
        "id": "hzL0hk1lY4r-"
      },
      "outputs": [],
      "source": [
        "# merged_final = pd.merge(merged, ann_3, on=['label', 'pair_id', 'annotator_id'], how='outer')"
      ]
    },
    {
      "cell_type": "code",
      "execution_count": null,
      "metadata": {
        "id": "ap-4YSo74uW0"
      },
      "outputs": [],
      "source": [
        "# import simpledorff\n",
        "# k_alpha = simpledorff.calculate_krippendorffs_alpha_for_df(merged_final,experiment_col='pair_id',\n",
        "#                                                  annotator_col='annotator_id',\n",
        "#                                                  class_col='label')\n",
        "\n",
        "# print(k_alpha)"
      ]
    }
  ],
  "metadata": {
    "colab": {
      "collapsed_sections": [
        "ZhXtHmq4_B6c"
      ],
      "provenance": []
    },
    "kernelspec": {
      "display_name": "Python 3",
      "language": "python",
      "name": "python3"
    },
    "language_info": {
      "codemirror_mode": {
        "name": "ipython",
        "version": 3
      },
      "file_extension": ".py",
      "mimetype": "text/x-python",
      "name": "python",
      "nbconvert_exporter": "python",
      "pygments_lexer": "ipython3",
      "version": "3.6.4"
    }
  },
  "nbformat": 4,
  "nbformat_minor": 0
}