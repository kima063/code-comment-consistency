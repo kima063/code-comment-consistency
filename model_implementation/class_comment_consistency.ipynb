{
  "metadata": {
    "kernelspec": {
      "language": "python",
      "display_name": "Python 3",
      "name": "python3"
    },
    "language_info": {
      "pygments_lexer": "ipython3",
      "nbconvert_exporter": "python",
      "version": "3.6.4",
      "file_extension": ".py",
      "codemirror_mode": {
        "name": "ipython",
        "version": 3
      },
      "name": "python",
      "mimetype": "text/x-python"
    },
    "colab": {
      "provenance": [],
      "collapsed_sections": [
        "ZhXtHmq4_B6c"
      ]
    }
  },
  "nbformat_minor": 0,
  "nbformat": 4,
  "cells": [
    {
      "cell_type": "code",
      "source": [
        "import pandas as pd\n",
        "import numpy as np\n",
        "import re\n",
        "from sklearn.metrics import accuracy_score\n",
        "from nltk.tokenize import word_tokenize\n",
        "from sklearn.model_selection import train_test_split\n",
        "import nltk\n",
        "from sklearn.feature_extraction.text import CountVectorizer\n",
        "from sklearn.decomposition import LatentDirichletAllocation\n",
        "from sklearn.model_selection import StratifiedKFold\n",
        "from sklearn.linear_model import LogisticRegression\n",
        "from sklearn.metrics import accuracy_score\n",
        "from sklearn.metrics import classification_report\n",
        "from sklearn.metrics import plot_confusion_matrix\n",
        "from sklearn.metrics import confusion_matrix\n",
        "from sklearn.metrics import roc_auc_score\n",
        "from sklearn.metrics import precision_score\n",
        "from sklearn.metrics import recall_score\n",
        "import seaborn as sn\n",
        "\n",
        "import warnings\n",
        "warnings.filterwarnings('ignore')"
      ],
      "metadata": {
        "_uuid": "8f2839f25d086af736a60e9eeb907d3b93b6e0e5",
        "_cell_guid": "b1076dfc-b9ad-4769-8c92-a6c4dae69d19",
        "execution": {
          "iopub.status.busy": "2022-06-17T18:33:45.178375Z",
          "iopub.execute_input": "2022-06-17T18:33:45.178889Z",
          "iopub.status.idle": "2022-06-17T18:33:47.227023Z",
          "shell.execute_reply.started": "2022-06-17T18:33:45.178767Z",
          "shell.execute_reply": "2022-06-17T18:33:47.226292Z"
        },
        "trusted": true,
        "id": "3duW6ewdA1I7"
      },
      "execution_count": null,
      "outputs": []
    },
    {
      "cell_type": "code",
      "source": [
        "nltk.download('omw-1.4')"
      ],
      "metadata": {
        "id": "cppoGKHhHV7I",
        "colab": {
          "base_uri": "https://localhost:8080/"
        },
        "outputId": "b6f6f99d-45dc-4bcb-8591-0dc532a1e1cb"
      },
      "execution_count": null,
      "outputs": [
        {
          "output_type": "stream",
          "name": "stderr",
          "text": [
            "[nltk_data] Downloading package omw-1.4 to /root/nltk_data...\n"
          ]
        },
        {
          "output_type": "execute_result",
          "data": {
            "text/plain": [
              "True"
            ]
          },
          "metadata": {},
          "execution_count": 2
        }
      ]
    },
    {
      "cell_type": "code",
      "source": [
        "df_main = pd.read_csv('class_data.csv', engine='python',encoding='utf-8')"
      ],
      "metadata": {
        "execution": {
          "iopub.status.busy": "2022-06-17T18:33:47.229011Z",
          "iopub.execute_input": "2022-06-17T18:33:47.229253Z",
          "iopub.status.idle": "2022-06-17T18:33:47.666607Z",
          "shell.execute_reply.started": "2022-06-17T18:33:47.229223Z",
          "shell.execute_reply": "2022-06-17T18:33:47.66577Z"
        },
        "trusted": true,
        "id": "2iOKSgahA1KB"
      },
      "execution_count": null,
      "outputs": []
    },
    {
      "cell_type": "code",
      "source": [
        "target_value = pd.read_csv('class_target_value.csv')"
      ],
      "metadata": {
        "execution": {
          "iopub.status.busy": "2022-06-17T18:33:47.668032Z",
          "iopub.execute_input": "2022-06-17T18:33:47.668291Z",
          "iopub.status.idle": "2022-06-17T18:33:47.703864Z",
          "shell.execute_reply.started": "2022-06-17T18:33:47.66825Z",
          "shell.execute_reply": "2022-06-17T18:33:47.702965Z"
        },
        "trusted": true,
        "id": "Pbj7w0OBA1KG"
      },
      "execution_count": null,
      "outputs": []
    },
    {
      "cell_type": "code",
      "source": [
        "df = df_main.copy()\n",
        "df.shape"
      ],
      "metadata": {
        "execution": {
          "iopub.status.busy": "2022-06-17T18:33:47.706636Z",
          "iopub.execute_input": "2022-06-17T18:33:47.707586Z",
          "iopub.status.idle": "2022-06-17T18:33:47.719552Z",
          "shell.execute_reply.started": "2022-06-17T18:33:47.707535Z",
          "shell.execute_reply": "2022-06-17T18:33:47.718426Z"
        },
        "trusted": true,
        "colab": {
          "base_uri": "https://localhost:8080/"
        },
        "id": "4pfuP1__A1KX",
        "outputId": "19dcc971-249b-498b-87b0-8eea7761ad1a"
      },
      "execution_count": null,
      "outputs": [
        {
          "output_type": "execute_result",
          "data": {
            "text/plain": [
              "(1093, 4)"
            ]
          },
          "metadata": {},
          "execution_count": 5
        }
      ]
    },
    {
      "cell_type": "code",
      "source": [
        "df.tail(10)"
      ],
      "metadata": {
        "colab": {
          "base_uri": "https://localhost:8080/",
          "height": 363
        },
        "id": "jpSsZ6FQAcKI",
        "outputId": "4549c89f-866a-4f6f-8aa7-5c660797fdac"
      },
      "execution_count": null,
      "outputs": [
        {
          "output_type": "execute_result",
          "data": {
            "text/plain": [
              "      Index                                               code  \\\n",
              "1083   1084  sealed class RerereCommand : Command\\n{\\npubli...   \n",
              "1084   1085  public sealed class ResetBranchParameters\\n{\\n...   \n",
              "1085   1086  public sealed class ResetCommand : Command\\n{\\...   \n",
              "1086   1087  public sealed class ResetFilesParameters\\n{\\n/...   \n",
              "1087   1088  internal class Resources {\\nprivate static glo...   \n",
              "1088   1089  internal class Resources {\\nprivate static glo...   \n",
              "1089   1090  internal class Resources {\\nprivate static glo...   \n",
              "1090   1091  internal class Resources {\\nprivate static glo...   \n",
              "1091   1092  internal class Resources {\\nprivate static glo...   \n",
              "1092   1093  internal class Resources {\\nprivate static glo...   \n",
              "\n",
              "                                                comment  label  \n",
              "1083  You need to set the configuration variable rer...      1  \n",
              "1084  Parameters for IBranchAccessor.ResetBranch ope...      1  \n",
              "1085         Reset current HEAD to the specified state.      1  \n",
              "1086  Parameters for IIndexAccessor.ResetFiles opera...      1  \n",
              "1087  A strongly-typed resource class, for looking u...      1  \n",
              "1088  A strongly-typed resource class, for looking u...      0  \n",
              "1089  A strongly-typed resource class, for looking u...      0  \n",
              "1090  A strongly-typed resource class, for looking u...      0  \n",
              "1091  A strongly-typed resource class, for looking u...      0  \n",
              "1092  A strongly-typed resource class, for looking u...      0  "
            ],
            "text/html": [
              "\n",
              "  <div id=\"df-88088fce-2d2b-4ca8-bd7c-ce6bf7d2287b\">\n",
              "    <div class=\"colab-df-container\">\n",
              "      <div>\n",
              "<style scoped>\n",
              "    .dataframe tbody tr th:only-of-type {\n",
              "        vertical-align: middle;\n",
              "    }\n",
              "\n",
              "    .dataframe tbody tr th {\n",
              "        vertical-align: top;\n",
              "    }\n",
              "\n",
              "    .dataframe thead th {\n",
              "        text-align: right;\n",
              "    }\n",
              "</style>\n",
              "<table border=\"1\" class=\"dataframe\">\n",
              "  <thead>\n",
              "    <tr style=\"text-align: right;\">\n",
              "      <th></th>\n",
              "      <th>Index</th>\n",
              "      <th>code</th>\n",
              "      <th>comment</th>\n",
              "      <th>label</th>\n",
              "    </tr>\n",
              "  </thead>\n",
              "  <tbody>\n",
              "    <tr>\n",
              "      <th>1083</th>\n",
              "      <td>1084</td>\n",
              "      <td>sealed class RerereCommand : Command\\n{\\npubli...</td>\n",
              "      <td>You need to set the configuration variable rer...</td>\n",
              "      <td>1</td>\n",
              "    </tr>\n",
              "    <tr>\n",
              "      <th>1084</th>\n",
              "      <td>1085</td>\n",
              "      <td>public sealed class ResetBranchParameters\\n{\\n...</td>\n",
              "      <td>Parameters for IBranchAccessor.ResetBranch ope...</td>\n",
              "      <td>1</td>\n",
              "    </tr>\n",
              "    <tr>\n",
              "      <th>1085</th>\n",
              "      <td>1086</td>\n",
              "      <td>public sealed class ResetCommand : Command\\n{\\...</td>\n",
              "      <td>Reset current HEAD to the specified state.</td>\n",
              "      <td>1</td>\n",
              "    </tr>\n",
              "    <tr>\n",
              "      <th>1086</th>\n",
              "      <td>1087</td>\n",
              "      <td>public sealed class ResetFilesParameters\\n{\\n/...</td>\n",
              "      <td>Parameters for IIndexAccessor.ResetFiles opera...</td>\n",
              "      <td>1</td>\n",
              "    </tr>\n",
              "    <tr>\n",
              "      <th>1087</th>\n",
              "      <td>1088</td>\n",
              "      <td>internal class Resources {\\nprivate static glo...</td>\n",
              "      <td>A strongly-typed resource class, for looking u...</td>\n",
              "      <td>1</td>\n",
              "    </tr>\n",
              "    <tr>\n",
              "      <th>1088</th>\n",
              "      <td>1089</td>\n",
              "      <td>internal class Resources {\\nprivate static glo...</td>\n",
              "      <td>A strongly-typed resource class, for looking u...</td>\n",
              "      <td>0</td>\n",
              "    </tr>\n",
              "    <tr>\n",
              "      <th>1089</th>\n",
              "      <td>1090</td>\n",
              "      <td>internal class Resources {\\nprivate static glo...</td>\n",
              "      <td>A strongly-typed resource class, for looking u...</td>\n",
              "      <td>0</td>\n",
              "    </tr>\n",
              "    <tr>\n",
              "      <th>1090</th>\n",
              "      <td>1091</td>\n",
              "      <td>internal class Resources {\\nprivate static glo...</td>\n",
              "      <td>A strongly-typed resource class, for looking u...</td>\n",
              "      <td>0</td>\n",
              "    </tr>\n",
              "    <tr>\n",
              "      <th>1091</th>\n",
              "      <td>1092</td>\n",
              "      <td>internal class Resources {\\nprivate static glo...</td>\n",
              "      <td>A strongly-typed resource class, for looking u...</td>\n",
              "      <td>0</td>\n",
              "    </tr>\n",
              "    <tr>\n",
              "      <th>1092</th>\n",
              "      <td>1093</td>\n",
              "      <td>internal class Resources {\\nprivate static glo...</td>\n",
              "      <td>A strongly-typed resource class, for looking u...</td>\n",
              "      <td>0</td>\n",
              "    </tr>\n",
              "  </tbody>\n",
              "</table>\n",
              "</div>\n",
              "      <button class=\"colab-df-convert\" onclick=\"convertToInteractive('df-88088fce-2d2b-4ca8-bd7c-ce6bf7d2287b')\"\n",
              "              title=\"Convert this dataframe to an interactive table.\"\n",
              "              style=\"display:none;\">\n",
              "        \n",
              "  <svg xmlns=\"http://www.w3.org/2000/svg\" height=\"24px\"viewBox=\"0 0 24 24\"\n",
              "       width=\"24px\">\n",
              "    <path d=\"M0 0h24v24H0V0z\" fill=\"none\"/>\n",
              "    <path d=\"M18.56 5.44l.94 2.06.94-2.06 2.06-.94-2.06-.94-.94-2.06-.94 2.06-2.06.94zm-11 1L8.5 8.5l.94-2.06 2.06-.94-2.06-.94L8.5 2.5l-.94 2.06-2.06.94zm10 10l.94 2.06.94-2.06 2.06-.94-2.06-.94-.94-2.06-.94 2.06-2.06.94z\"/><path d=\"M17.41 7.96l-1.37-1.37c-.4-.4-.92-.59-1.43-.59-.52 0-1.04.2-1.43.59L10.3 9.45l-7.72 7.72c-.78.78-.78 2.05 0 2.83L4 21.41c.39.39.9.59 1.41.59.51 0 1.02-.2 1.41-.59l7.78-7.78 2.81-2.81c.8-.78.8-2.07 0-2.86zM5.41 20L4 18.59l7.72-7.72 1.47 1.35L5.41 20z\"/>\n",
              "  </svg>\n",
              "      </button>\n",
              "      \n",
              "  <style>\n",
              "    .colab-df-container {\n",
              "      display:flex;\n",
              "      flex-wrap:wrap;\n",
              "      gap: 12px;\n",
              "    }\n",
              "\n",
              "    .colab-df-convert {\n",
              "      background-color: #E8F0FE;\n",
              "      border: none;\n",
              "      border-radius: 50%;\n",
              "      cursor: pointer;\n",
              "      display: none;\n",
              "      fill: #1967D2;\n",
              "      height: 32px;\n",
              "      padding: 0 0 0 0;\n",
              "      width: 32px;\n",
              "    }\n",
              "\n",
              "    .colab-df-convert:hover {\n",
              "      background-color: #E2EBFA;\n",
              "      box-shadow: 0px 1px 2px rgba(60, 64, 67, 0.3), 0px 1px 3px 1px rgba(60, 64, 67, 0.15);\n",
              "      fill: #174EA6;\n",
              "    }\n",
              "\n",
              "    [theme=dark] .colab-df-convert {\n",
              "      background-color: #3B4455;\n",
              "      fill: #D2E3FC;\n",
              "    }\n",
              "\n",
              "    [theme=dark] .colab-df-convert:hover {\n",
              "      background-color: #434B5C;\n",
              "      box-shadow: 0px 1px 3px 1px rgba(0, 0, 0, 0.15);\n",
              "      filter: drop-shadow(0px 1px 2px rgba(0, 0, 0, 0.3));\n",
              "      fill: #FFFFFF;\n",
              "    }\n",
              "  </style>\n",
              "\n",
              "      <script>\n",
              "        const buttonEl =\n",
              "          document.querySelector('#df-88088fce-2d2b-4ca8-bd7c-ce6bf7d2287b button.colab-df-convert');\n",
              "        buttonEl.style.display =\n",
              "          google.colab.kernel.accessAllowed ? 'block' : 'none';\n",
              "\n",
              "        async function convertToInteractive(key) {\n",
              "          const element = document.querySelector('#df-88088fce-2d2b-4ca8-bd7c-ce6bf7d2287b');\n",
              "          const dataTable =\n",
              "            await google.colab.kernel.invokeFunction('convertToInteractive',\n",
              "                                                     [key], {});\n",
              "          if (!dataTable) return;\n",
              "\n",
              "          const docLinkHtml = 'Like what you see? Visit the ' +\n",
              "            '<a target=\"_blank\" href=https://colab.research.google.com/notebooks/data_table.ipynb>data table notebook</a>'\n",
              "            + ' to learn more about interactive tables.';\n",
              "          element.innerHTML = '';\n",
              "          dataTable['output_type'] = 'display_data';\n",
              "          await google.colab.output.renderOutput(dataTable, element);\n",
              "          const docLink = document.createElement('div');\n",
              "          docLink.innerHTML = docLinkHtml;\n",
              "          element.appendChild(docLink);\n",
              "        }\n",
              "      </script>\n",
              "    </div>\n",
              "  </div>\n",
              "  "
            ]
          },
          "metadata": {},
          "execution_count": 6
        }
      ]
    },
    {
      "cell_type": "code",
      "source": [
        "target_value.head(10)"
      ],
      "metadata": {
        "colab": {
          "base_uri": "https://localhost:8080/",
          "height": 363
        },
        "id": "5ChLS2ZPEya9",
        "outputId": "94bf30c7-5514-47c8-d932-aaa6264d7d91"
      },
      "execution_count": null,
      "outputs": [
        {
          "output_type": "execute_result",
          "data": {
            "text/plain": [
              "   Index  label\n",
              "0      1      1\n",
              "1      2      1\n",
              "2      3      1\n",
              "3      4      1\n",
              "4      5      1\n",
              "5      6      1\n",
              "6      7      1\n",
              "7      8      1\n",
              "8      9      1\n",
              "9     10      1"
            ],
            "text/html": [
              "\n",
              "  <div id=\"df-a7a2b83b-e284-4437-ba3c-72c700860b51\">\n",
              "    <div class=\"colab-df-container\">\n",
              "      <div>\n",
              "<style scoped>\n",
              "    .dataframe tbody tr th:only-of-type {\n",
              "        vertical-align: middle;\n",
              "    }\n",
              "\n",
              "    .dataframe tbody tr th {\n",
              "        vertical-align: top;\n",
              "    }\n",
              "\n",
              "    .dataframe thead th {\n",
              "        text-align: right;\n",
              "    }\n",
              "</style>\n",
              "<table border=\"1\" class=\"dataframe\">\n",
              "  <thead>\n",
              "    <tr style=\"text-align: right;\">\n",
              "      <th></th>\n",
              "      <th>Index</th>\n",
              "      <th>label</th>\n",
              "    </tr>\n",
              "  </thead>\n",
              "  <tbody>\n",
              "    <tr>\n",
              "      <th>0</th>\n",
              "      <td>1</td>\n",
              "      <td>1</td>\n",
              "    </tr>\n",
              "    <tr>\n",
              "      <th>1</th>\n",
              "      <td>2</td>\n",
              "      <td>1</td>\n",
              "    </tr>\n",
              "    <tr>\n",
              "      <th>2</th>\n",
              "      <td>3</td>\n",
              "      <td>1</td>\n",
              "    </tr>\n",
              "    <tr>\n",
              "      <th>3</th>\n",
              "      <td>4</td>\n",
              "      <td>1</td>\n",
              "    </tr>\n",
              "    <tr>\n",
              "      <th>4</th>\n",
              "      <td>5</td>\n",
              "      <td>1</td>\n",
              "    </tr>\n",
              "    <tr>\n",
              "      <th>5</th>\n",
              "      <td>6</td>\n",
              "      <td>1</td>\n",
              "    </tr>\n",
              "    <tr>\n",
              "      <th>6</th>\n",
              "      <td>7</td>\n",
              "      <td>1</td>\n",
              "    </tr>\n",
              "    <tr>\n",
              "      <th>7</th>\n",
              "      <td>8</td>\n",
              "      <td>1</td>\n",
              "    </tr>\n",
              "    <tr>\n",
              "      <th>8</th>\n",
              "      <td>9</td>\n",
              "      <td>1</td>\n",
              "    </tr>\n",
              "    <tr>\n",
              "      <th>9</th>\n",
              "      <td>10</td>\n",
              "      <td>1</td>\n",
              "    </tr>\n",
              "  </tbody>\n",
              "</table>\n",
              "</div>\n",
              "      <button class=\"colab-df-convert\" onclick=\"convertToInteractive('df-a7a2b83b-e284-4437-ba3c-72c700860b51')\"\n",
              "              title=\"Convert this dataframe to an interactive table.\"\n",
              "              style=\"display:none;\">\n",
              "        \n",
              "  <svg xmlns=\"http://www.w3.org/2000/svg\" height=\"24px\"viewBox=\"0 0 24 24\"\n",
              "       width=\"24px\">\n",
              "    <path d=\"M0 0h24v24H0V0z\" fill=\"none\"/>\n",
              "    <path d=\"M18.56 5.44l.94 2.06.94-2.06 2.06-.94-2.06-.94-.94-2.06-.94 2.06-2.06.94zm-11 1L8.5 8.5l.94-2.06 2.06-.94-2.06-.94L8.5 2.5l-.94 2.06-2.06.94zm10 10l.94 2.06.94-2.06 2.06-.94-2.06-.94-.94-2.06-.94 2.06-2.06.94z\"/><path d=\"M17.41 7.96l-1.37-1.37c-.4-.4-.92-.59-1.43-.59-.52 0-1.04.2-1.43.59L10.3 9.45l-7.72 7.72c-.78.78-.78 2.05 0 2.83L4 21.41c.39.39.9.59 1.41.59.51 0 1.02-.2 1.41-.59l7.78-7.78 2.81-2.81c.8-.78.8-2.07 0-2.86zM5.41 20L4 18.59l7.72-7.72 1.47 1.35L5.41 20z\"/>\n",
              "  </svg>\n",
              "      </button>\n",
              "      \n",
              "  <style>\n",
              "    .colab-df-container {\n",
              "      display:flex;\n",
              "      flex-wrap:wrap;\n",
              "      gap: 12px;\n",
              "    }\n",
              "\n",
              "    .colab-df-convert {\n",
              "      background-color: #E8F0FE;\n",
              "      border: none;\n",
              "      border-radius: 50%;\n",
              "      cursor: pointer;\n",
              "      display: none;\n",
              "      fill: #1967D2;\n",
              "      height: 32px;\n",
              "      padding: 0 0 0 0;\n",
              "      width: 32px;\n",
              "    }\n",
              "\n",
              "    .colab-df-convert:hover {\n",
              "      background-color: #E2EBFA;\n",
              "      box-shadow: 0px 1px 2px rgba(60, 64, 67, 0.3), 0px 1px 3px 1px rgba(60, 64, 67, 0.15);\n",
              "      fill: #174EA6;\n",
              "    }\n",
              "\n",
              "    [theme=dark] .colab-df-convert {\n",
              "      background-color: #3B4455;\n",
              "      fill: #D2E3FC;\n",
              "    }\n",
              "\n",
              "    [theme=dark] .colab-df-convert:hover {\n",
              "      background-color: #434B5C;\n",
              "      box-shadow: 0px 1px 3px 1px rgba(0, 0, 0, 0.15);\n",
              "      filter: drop-shadow(0px 1px 2px rgba(0, 0, 0, 0.3));\n",
              "      fill: #FFFFFF;\n",
              "    }\n",
              "  </style>\n",
              "\n",
              "      <script>\n",
              "        const buttonEl =\n",
              "          document.querySelector('#df-a7a2b83b-e284-4437-ba3c-72c700860b51 button.colab-df-convert');\n",
              "        buttonEl.style.display =\n",
              "          google.colab.kernel.accessAllowed ? 'block' : 'none';\n",
              "\n",
              "        async function convertToInteractive(key) {\n",
              "          const element = document.querySelector('#df-a7a2b83b-e284-4437-ba3c-72c700860b51');\n",
              "          const dataTable =\n",
              "            await google.colab.kernel.invokeFunction('convertToInteractive',\n",
              "                                                     [key], {});\n",
              "          if (!dataTable) return;\n",
              "\n",
              "          const docLinkHtml = 'Like what you see? Visit the ' +\n",
              "            '<a target=\"_blank\" href=https://colab.research.google.com/notebooks/data_table.ipynb>data table notebook</a>'\n",
              "            + ' to learn more about interactive tables.';\n",
              "          element.innerHTML = '';\n",
              "          dataTable['output_type'] = 'display_data';\n",
              "          await google.colab.output.renderOutput(dataTable, element);\n",
              "          const docLink = document.createElement('div');\n",
              "          docLink.innerHTML = docLinkHtml;\n",
              "          element.appendChild(docLink);\n",
              "        }\n",
              "      </script>\n",
              "    </div>\n",
              "  </div>\n",
              "  "
            ]
          },
          "metadata": {},
          "execution_count": 7
        }
      ]
    },
    {
      "cell_type": "code",
      "source": [
        "df.label.value_counts()"
      ],
      "metadata": {
        "colab": {
          "base_uri": "https://localhost:8080/"
        },
        "id": "ba4473FwBCO2",
        "outputId": "cfb90852-d173-411c-a4f2-65e5eb73eb1f"
      },
      "execution_count": null,
      "outputs": [
        {
          "output_type": "execute_result",
          "data": {
            "text/plain": [
              "1    1021\n",
              "0      72\n",
              "Name: label, dtype: int64"
            ]
          },
          "metadata": {},
          "execution_count": 8
        }
      ]
    },
    {
      "cell_type": "code",
      "source": [
        "# df.loc[:,'label'] = df.label.map({'NOT_COHERENT':0, 'COHERENT':1})"
      ],
      "metadata": {
        "id": "jLxqk3imAkF_"
      },
      "execution_count": null,
      "outputs": []
    },
    {
      "cell_type": "code",
      "source": [
        "# target_value.loc[:,'Label'] = target_value.Label.map({'NOT_COHERENT':0, 'COHERENT':1})"
      ],
      "metadata": {
        "id": "nJmLVi7OQiFy"
      },
      "execution_count": null,
      "outputs": []
    },
    {
      "cell_type": "code",
      "source": [
        "target_value.head(5)"
      ],
      "metadata": {
        "colab": {
          "base_uri": "https://localhost:8080/",
          "height": 206
        },
        "id": "1a1Y-7Iwb_e5",
        "outputId": "e0e665d6-e525-4e7b-8b83-6b7c5fc00f70"
      },
      "execution_count": null,
      "outputs": [
        {
          "output_type": "execute_result",
          "data": {
            "text/plain": [
              "   Index  label\n",
              "0      1      1\n",
              "1      2      1\n",
              "2      3      1\n",
              "3      4      1\n",
              "4      5      1"
            ],
            "text/html": [
              "\n",
              "  <div id=\"df-85024c5e-89ff-42a0-aa8c-14560835c48f\">\n",
              "    <div class=\"colab-df-container\">\n",
              "      <div>\n",
              "<style scoped>\n",
              "    .dataframe tbody tr th:only-of-type {\n",
              "        vertical-align: middle;\n",
              "    }\n",
              "\n",
              "    .dataframe tbody tr th {\n",
              "        vertical-align: top;\n",
              "    }\n",
              "\n",
              "    .dataframe thead th {\n",
              "        text-align: right;\n",
              "    }\n",
              "</style>\n",
              "<table border=\"1\" class=\"dataframe\">\n",
              "  <thead>\n",
              "    <tr style=\"text-align: right;\">\n",
              "      <th></th>\n",
              "      <th>Index</th>\n",
              "      <th>label</th>\n",
              "    </tr>\n",
              "  </thead>\n",
              "  <tbody>\n",
              "    <tr>\n",
              "      <th>0</th>\n",
              "      <td>1</td>\n",
              "      <td>1</td>\n",
              "    </tr>\n",
              "    <tr>\n",
              "      <th>1</th>\n",
              "      <td>2</td>\n",
              "      <td>1</td>\n",
              "    </tr>\n",
              "    <tr>\n",
              "      <th>2</th>\n",
              "      <td>3</td>\n",
              "      <td>1</td>\n",
              "    </tr>\n",
              "    <tr>\n",
              "      <th>3</th>\n",
              "      <td>4</td>\n",
              "      <td>1</td>\n",
              "    </tr>\n",
              "    <tr>\n",
              "      <th>4</th>\n",
              "      <td>5</td>\n",
              "      <td>1</td>\n",
              "    </tr>\n",
              "  </tbody>\n",
              "</table>\n",
              "</div>\n",
              "      <button class=\"colab-df-convert\" onclick=\"convertToInteractive('df-85024c5e-89ff-42a0-aa8c-14560835c48f')\"\n",
              "              title=\"Convert this dataframe to an interactive table.\"\n",
              "              style=\"display:none;\">\n",
              "        \n",
              "  <svg xmlns=\"http://www.w3.org/2000/svg\" height=\"24px\"viewBox=\"0 0 24 24\"\n",
              "       width=\"24px\">\n",
              "    <path d=\"M0 0h24v24H0V0z\" fill=\"none\"/>\n",
              "    <path d=\"M18.56 5.44l.94 2.06.94-2.06 2.06-.94-2.06-.94-.94-2.06-.94 2.06-2.06.94zm-11 1L8.5 8.5l.94-2.06 2.06-.94-2.06-.94L8.5 2.5l-.94 2.06-2.06.94zm10 10l.94 2.06.94-2.06 2.06-.94-2.06-.94-.94-2.06-.94 2.06-2.06.94z\"/><path d=\"M17.41 7.96l-1.37-1.37c-.4-.4-.92-.59-1.43-.59-.52 0-1.04.2-1.43.59L10.3 9.45l-7.72 7.72c-.78.78-.78 2.05 0 2.83L4 21.41c.39.39.9.59 1.41.59.51 0 1.02-.2 1.41-.59l7.78-7.78 2.81-2.81c.8-.78.8-2.07 0-2.86zM5.41 20L4 18.59l7.72-7.72 1.47 1.35L5.41 20z\"/>\n",
              "  </svg>\n",
              "      </button>\n",
              "      \n",
              "  <style>\n",
              "    .colab-df-container {\n",
              "      display:flex;\n",
              "      flex-wrap:wrap;\n",
              "      gap: 12px;\n",
              "    }\n",
              "\n",
              "    .colab-df-convert {\n",
              "      background-color: #E8F0FE;\n",
              "      border: none;\n",
              "      border-radius: 50%;\n",
              "      cursor: pointer;\n",
              "      display: none;\n",
              "      fill: #1967D2;\n",
              "      height: 32px;\n",
              "      padding: 0 0 0 0;\n",
              "      width: 32px;\n",
              "    }\n",
              "\n",
              "    .colab-df-convert:hover {\n",
              "      background-color: #E2EBFA;\n",
              "      box-shadow: 0px 1px 2px rgba(60, 64, 67, 0.3), 0px 1px 3px 1px rgba(60, 64, 67, 0.15);\n",
              "      fill: #174EA6;\n",
              "    }\n",
              "\n",
              "    [theme=dark] .colab-df-convert {\n",
              "      background-color: #3B4455;\n",
              "      fill: #D2E3FC;\n",
              "    }\n",
              "\n",
              "    [theme=dark] .colab-df-convert:hover {\n",
              "      background-color: #434B5C;\n",
              "      box-shadow: 0px 1px 3px 1px rgba(0, 0, 0, 0.15);\n",
              "      filter: drop-shadow(0px 1px 2px rgba(0, 0, 0, 0.3));\n",
              "      fill: #FFFFFF;\n",
              "    }\n",
              "  </style>\n",
              "\n",
              "      <script>\n",
              "        const buttonEl =\n",
              "          document.querySelector('#df-85024c5e-89ff-42a0-aa8c-14560835c48f button.colab-df-convert');\n",
              "        buttonEl.style.display =\n",
              "          google.colab.kernel.accessAllowed ? 'block' : 'none';\n",
              "\n",
              "        async function convertToInteractive(key) {\n",
              "          const element = document.querySelector('#df-85024c5e-89ff-42a0-aa8c-14560835c48f');\n",
              "          const dataTable =\n",
              "            await google.colab.kernel.invokeFunction('convertToInteractive',\n",
              "                                                     [key], {});\n",
              "          if (!dataTable) return;\n",
              "\n",
              "          const docLinkHtml = 'Like what you see? Visit the ' +\n",
              "            '<a target=\"_blank\" href=https://colab.research.google.com/notebooks/data_table.ipynb>data table notebook</a>'\n",
              "            + ' to learn more about interactive tables.';\n",
              "          element.innerHTML = '';\n",
              "          dataTable['output_type'] = 'display_data';\n",
              "          await google.colab.output.renderOutput(dataTable, element);\n",
              "          const docLink = document.createElement('div');\n",
              "          docLink.innerHTML = docLinkHtml;\n",
              "          element.appendChild(docLink);\n",
              "        }\n",
              "      </script>\n",
              "    </div>\n",
              "  </div>\n",
              "  "
            ]
          },
          "metadata": {},
          "execution_count": 11
        }
      ]
    },
    {
      "cell_type": "code",
      "source": [
        "df.head(5)"
      ],
      "metadata": {
        "colab": {
          "base_uri": "https://localhost:8080/",
          "height": 206
        },
        "id": "tgMWNoU2cC2M",
        "outputId": "7cf28427-9a81-45f7-a84b-17cf0c01b879"
      },
      "execution_count": null,
      "outputs": [
        {
          "output_type": "execute_result",
          "data": {
            "text/plain": [
              "   Index                                               code  \\\n",
              "0      1  public static class AddC\\n{\\n/// <summary>\\n//...   \n",
              "1      2  public static class AddProduct\\n{ /// <summary...   \n",
              "2      3  public static class AddProductC\\n{\\n///// <sum...   \n",
              "3      4  public static class AddProductSignal\\n{ /// <s...   \n",
              "4      5  public static class AddSignal\\n{\\t/// <summary...   \n",
              "\n",
              "                                             comment  label  \n",
              "0  Adds a constant value to each sample of a signal.      1  \n",
              "1  Pixel by pixel addition of product of pixels f...      1  \n",
              "2  Adds product of a constant and each sample of ...      1  \n",
              "3  Adds sample by sample product of two signals t...      1  \n",
              "4          Sample by sample addition of two signals.      1  "
            ],
            "text/html": [
              "\n",
              "  <div id=\"df-fe1c66bf-20bd-443e-bf78-baf308528fe4\">\n",
              "    <div class=\"colab-df-container\">\n",
              "      <div>\n",
              "<style scoped>\n",
              "    .dataframe tbody tr th:only-of-type {\n",
              "        vertical-align: middle;\n",
              "    }\n",
              "\n",
              "    .dataframe tbody tr th {\n",
              "        vertical-align: top;\n",
              "    }\n",
              "\n",
              "    .dataframe thead th {\n",
              "        text-align: right;\n",
              "    }\n",
              "</style>\n",
              "<table border=\"1\" class=\"dataframe\">\n",
              "  <thead>\n",
              "    <tr style=\"text-align: right;\">\n",
              "      <th></th>\n",
              "      <th>Index</th>\n",
              "      <th>code</th>\n",
              "      <th>comment</th>\n",
              "      <th>label</th>\n",
              "    </tr>\n",
              "  </thead>\n",
              "  <tbody>\n",
              "    <tr>\n",
              "      <th>0</th>\n",
              "      <td>1</td>\n",
              "      <td>public static class AddC\\n{\\n/// &lt;summary&gt;\\n//...</td>\n",
              "      <td>Adds a constant value to each sample of a signal.</td>\n",
              "      <td>1</td>\n",
              "    </tr>\n",
              "    <tr>\n",
              "      <th>1</th>\n",
              "      <td>2</td>\n",
              "      <td>public static class AddProduct\\n{ /// &lt;summary...</td>\n",
              "      <td>Pixel by pixel addition of product of pixels f...</td>\n",
              "      <td>1</td>\n",
              "    </tr>\n",
              "    <tr>\n",
              "      <th>2</th>\n",
              "      <td>3</td>\n",
              "      <td>public static class AddProductC\\n{\\n///// &lt;sum...</td>\n",
              "      <td>Adds product of a constant and each sample of ...</td>\n",
              "      <td>1</td>\n",
              "    </tr>\n",
              "    <tr>\n",
              "      <th>3</th>\n",
              "      <td>4</td>\n",
              "      <td>public static class AddProductSignal\\n{ /// &lt;s...</td>\n",
              "      <td>Adds sample by sample product of two signals t...</td>\n",
              "      <td>1</td>\n",
              "    </tr>\n",
              "    <tr>\n",
              "      <th>4</th>\n",
              "      <td>5</td>\n",
              "      <td>public static class AddSignal\\n{\\t/// &lt;summary...</td>\n",
              "      <td>Sample by sample addition of two signals.</td>\n",
              "      <td>1</td>\n",
              "    </tr>\n",
              "  </tbody>\n",
              "</table>\n",
              "</div>\n",
              "      <button class=\"colab-df-convert\" onclick=\"convertToInteractive('df-fe1c66bf-20bd-443e-bf78-baf308528fe4')\"\n",
              "              title=\"Convert this dataframe to an interactive table.\"\n",
              "              style=\"display:none;\">\n",
              "        \n",
              "  <svg xmlns=\"http://www.w3.org/2000/svg\" height=\"24px\"viewBox=\"0 0 24 24\"\n",
              "       width=\"24px\">\n",
              "    <path d=\"M0 0h24v24H0V0z\" fill=\"none\"/>\n",
              "    <path d=\"M18.56 5.44l.94 2.06.94-2.06 2.06-.94-2.06-.94-.94-2.06-.94 2.06-2.06.94zm-11 1L8.5 8.5l.94-2.06 2.06-.94-2.06-.94L8.5 2.5l-.94 2.06-2.06.94zm10 10l.94 2.06.94-2.06 2.06-.94-2.06-.94-.94-2.06-.94 2.06-2.06.94z\"/><path d=\"M17.41 7.96l-1.37-1.37c-.4-.4-.92-.59-1.43-.59-.52 0-1.04.2-1.43.59L10.3 9.45l-7.72 7.72c-.78.78-.78 2.05 0 2.83L4 21.41c.39.39.9.59 1.41.59.51 0 1.02-.2 1.41-.59l7.78-7.78 2.81-2.81c.8-.78.8-2.07 0-2.86zM5.41 20L4 18.59l7.72-7.72 1.47 1.35L5.41 20z\"/>\n",
              "  </svg>\n",
              "      </button>\n",
              "      \n",
              "  <style>\n",
              "    .colab-df-container {\n",
              "      display:flex;\n",
              "      flex-wrap:wrap;\n",
              "      gap: 12px;\n",
              "    }\n",
              "\n",
              "    .colab-df-convert {\n",
              "      background-color: #E8F0FE;\n",
              "      border: none;\n",
              "      border-radius: 50%;\n",
              "      cursor: pointer;\n",
              "      display: none;\n",
              "      fill: #1967D2;\n",
              "      height: 32px;\n",
              "      padding: 0 0 0 0;\n",
              "      width: 32px;\n",
              "    }\n",
              "\n",
              "    .colab-df-convert:hover {\n",
              "      background-color: #E2EBFA;\n",
              "      box-shadow: 0px 1px 2px rgba(60, 64, 67, 0.3), 0px 1px 3px 1px rgba(60, 64, 67, 0.15);\n",
              "      fill: #174EA6;\n",
              "    }\n",
              "\n",
              "    [theme=dark] .colab-df-convert {\n",
              "      background-color: #3B4455;\n",
              "      fill: #D2E3FC;\n",
              "    }\n",
              "\n",
              "    [theme=dark] .colab-df-convert:hover {\n",
              "      background-color: #434B5C;\n",
              "      box-shadow: 0px 1px 3px 1px rgba(0, 0, 0, 0.15);\n",
              "      filter: drop-shadow(0px 1px 2px rgba(0, 0, 0, 0.3));\n",
              "      fill: #FFFFFF;\n",
              "    }\n",
              "  </style>\n",
              "\n",
              "      <script>\n",
              "        const buttonEl =\n",
              "          document.querySelector('#df-fe1c66bf-20bd-443e-bf78-baf308528fe4 button.colab-df-convert');\n",
              "        buttonEl.style.display =\n",
              "          google.colab.kernel.accessAllowed ? 'block' : 'none';\n",
              "\n",
              "        async function convertToInteractive(key) {\n",
              "          const element = document.querySelector('#df-fe1c66bf-20bd-443e-bf78-baf308528fe4');\n",
              "          const dataTable =\n",
              "            await google.colab.kernel.invokeFunction('convertToInteractive',\n",
              "                                                     [key], {});\n",
              "          if (!dataTable) return;\n",
              "\n",
              "          const docLinkHtml = 'Like what you see? Visit the ' +\n",
              "            '<a target=\"_blank\" href=https://colab.research.google.com/notebooks/data_table.ipynb>data table notebook</a>'\n",
              "            + ' to learn more about interactive tables.';\n",
              "          element.innerHTML = '';\n",
              "          dataTable['output_type'] = 'display_data';\n",
              "          await google.colab.output.renderOutput(dataTable, element);\n",
              "          const docLink = document.createElement('div');\n",
              "          docLink.innerHTML = docLinkHtml;\n",
              "          element.appendChild(docLink);\n",
              "        }\n",
              "      </script>\n",
              "    </div>\n",
              "  </div>\n",
              "  "
            ]
          },
          "metadata": {},
          "execution_count": 12
        }
      ]
    },
    {
      "cell_type": "code",
      "source": [
        "!pip install stopwordsiso\n",
        "import stopwordsiso as stopwords\n",
        "\n",
        "stop_words = stopwords.stopwords(\"en\")\n",
        "# print(stop_words)\n",
        "\n",
        "from nltk.stem import PorterStemmer\n",
        "stemmer = PorterStemmer()\n",
        "\n",
        "import nltk\n",
        "nltk.download('wordnet')\n",
        "from nltk.stem import WordNetLemmatizer\n",
        "lemmatizer = WordNetLemmatizer()"
      ],
      "metadata": {
        "execution": {
          "iopub.status.busy": "2022-06-17T18:33:47.762261Z",
          "iopub.execute_input": "2022-06-17T18:33:47.762482Z",
          "iopub.status.idle": "2022-06-17T18:34:01.512696Z",
          "shell.execute_reply.started": "2022-06-17T18:33:47.762455Z",
          "shell.execute_reply": "2022-06-17T18:34:01.511466Z"
        },
        "trusted": true,
        "colab": {
          "base_uri": "https://localhost:8080/"
        },
        "id": "vxKPXcU9A1K9",
        "outputId": "4050183a-3daf-4159-cff5-f13ab1df9e8f"
      },
      "execution_count": null,
      "outputs": [
        {
          "output_type": "stream",
          "name": "stdout",
          "text": [
            "Looking in indexes: https://pypi.org/simple, https://us-python.pkg.dev/colab-wheels/public/simple/\n",
            "Collecting stopwordsiso\n",
            "  Downloading stopwordsiso-0.6.1-py3-none-any.whl (73 kB)\n",
            "\u001b[?25l\r\u001b[K     |████▌                           | 10 kB 22.0 MB/s eta 0:00:01\r\u001b[K     |█████████                       | 20 kB 27.1 MB/s eta 0:00:01\r\u001b[K     |█████████████▍                  | 30 kB 32.9 MB/s eta 0:00:01\r\u001b[K     |█████████████████▉              | 40 kB 30.8 MB/s eta 0:00:01\r\u001b[K     |██████████████████████▎         | 51 kB 11.7 MB/s eta 0:00:01\r\u001b[K     |██████████████████████████▊     | 61 kB 13.5 MB/s eta 0:00:01\r\u001b[K     |███████████████████████████████▏| 71 kB 14.1 MB/s eta 0:00:01\r\u001b[K     |████████████████████████████████| 73 kB 1.7 MB/s \n",
            "\u001b[?25hInstalling collected packages: stopwordsiso\n",
            "Successfully installed stopwordsiso-0.6.1\n"
          ]
        },
        {
          "output_type": "stream",
          "name": "stderr",
          "text": [
            "[nltk_data] Downloading package wordnet to /root/nltk_data...\n"
          ]
        }
      ]
    },
    {
      "cell_type": "markdown",
      "source": [
        "# **Function Declaration**"
      ],
      "metadata": {
        "id": "sG6CD6IyA1LF"
      }
    },
    {
      "cell_type": "markdown",
      "source": [
        "**Data Cleaning**"
      ],
      "metadata": {
        "id": "GlYYJPVUA1LG"
      }
    },
    {
      "cell_type": "code",
      "source": [
        "stop_words.add('')"
      ],
      "metadata": {
        "id": "DJ2EgyTLrGrb"
      },
      "execution_count": null,
      "outputs": []
    },
    {
      "cell_type": "code",
      "source": [
        "def cleaning(data):\n",
        "  data = data.str.replace('[^\\w\\s]','')\n",
        "  data = data.replace('/+','', regex=True)\n",
        "  data = data.replace('\\n','', regex=True)\n",
        "  data = data.replace('\\t','', regex=True)\n",
        "  data = data.replace('_','', regex=True)\n",
        "  data = data.replace('public','', regex=True)\n",
        "  data = data.replace('void','', regex=True)\n",
        "  data = data.replace('static','', regex=True)\n",
        "  data = data.replace('class','', regex=True)\n",
        "  data = data.str.split(' ')\n",
        "  data = data.apply(lambda x: [item for item in x if item not in stop_words])\n",
        "  #data = data.apply(lambda x: [stemmer.stem(y) for y in x])\n",
        "  data = data.apply(lambda x: [lemmatizer.lemmatize(y) for y in x])\n",
        "  return data"
      ],
      "metadata": {
        "execution": {
          "iopub.status.busy": "2022-06-17T18:34:01.53142Z",
          "iopub.execute_input": "2022-06-17T18:34:01.531891Z",
          "iopub.status.idle": "2022-06-17T18:34:01.54118Z",
          "shell.execute_reply.started": "2022-06-17T18:34:01.531857Z",
          "shell.execute_reply": "2022-06-17T18:34:01.540522Z"
        },
        "trusted": true,
        "id": "Luc-YpVLA1LI"
      },
      "execution_count": null,
      "outputs": []
    },
    {
      "cell_type": "code",
      "source": [
        "# x=cleaning(df)\n",
        "#x.head(5)"
      ],
      "metadata": {
        "id": "wyIt-NqKRSbG"
      },
      "execution_count": null,
      "outputs": []
    },
    {
      "cell_type": "markdown",
      "source": [
        "**CountVectorizer for train data**"
      ],
      "metadata": {
        "id": "_Pf7Ssy3A1LQ"
      }
    },
    {
      "cell_type": "code",
      "source": [
        "def CV_train(text):\n",
        "  count_vectorizer = CountVectorizer(stop_words='english', max_features=40000)\n",
        "  document_term_matrix = count_vectorizer.fit_transform(text)\n",
        "  return count_vectorizer, document_term_matrix"
      ],
      "metadata": {
        "execution": {
          "iopub.status.busy": "2022-06-17T18:34:01.559625Z",
          "iopub.execute_input": "2022-06-17T18:34:01.560122Z",
          "iopub.status.idle": "2022-06-17T18:34:01.573134Z",
          "shell.execute_reply.started": "2022-06-17T18:34:01.560079Z",
          "shell.execute_reply": "2022-06-17T18:34:01.572343Z"
        },
        "trusted": true,
        "id": "q7aAhRZ0A1LR"
      },
      "execution_count": null,
      "outputs": []
    },
    {
      "cell_type": "markdown",
      "source": [
        "**CountVectorizer for test data**"
      ],
      "metadata": {
        "id": "hPyahoIlA1LU"
      }
    },
    {
      "cell_type": "code",
      "source": [
        "def CV_test(count_vectorizer, text):\n",
        "  document_term_matrix = count_vectorizer.transform(text)\n",
        "  return document_term_matrix"
      ],
      "metadata": {
        "execution": {
          "iopub.status.busy": "2022-06-17T18:34:01.574618Z",
          "iopub.execute_input": "2022-06-17T18:34:01.575208Z",
          "iopub.status.idle": "2022-06-17T18:34:01.585666Z",
          "shell.execute_reply.started": "2022-06-17T18:34:01.575171Z",
          "shell.execute_reply": "2022-06-17T18:34:01.584812Z"
        },
        "trusted": true,
        "id": "HbjE4-psA1LU"
      },
      "execution_count": null,
      "outputs": []
    },
    {
      "cell_type": "markdown",
      "source": [
        "**LDA( Topic Modeling Technique) for train data**"
      ],
      "metadata": {
        "id": "VPjrJJ7dA1LW"
      }
    },
    {
      "cell_type": "code",
      "source": [
        "def LDA_train(n_topics, document_term_matrix):\n",
        "  lda_model = LatentDirichletAllocation(n_components=n_topics, learning_method='online', random_state=0, verbose=0)\n",
        "  lda_topic_matrix = lda_model.fit_transform(document_term_matrix)\n",
        "  return lda_model, lda_topic_matrix"
      ],
      "metadata": {
        "execution": {
          "iopub.status.busy": "2022-06-17T18:34:01.587092Z",
          "iopub.execute_input": "2022-06-17T18:34:01.587559Z",
          "iopub.status.idle": "2022-06-17T18:34:01.598978Z",
          "shell.execute_reply.started": "2022-06-17T18:34:01.58752Z",
          "shell.execute_reply": "2022-06-17T18:34:01.597941Z"
        },
        "trusted": true,
        "id": "Vkp9_ARzA1LX"
      },
      "execution_count": null,
      "outputs": []
    },
    {
      "cell_type": "markdown",
      "source": [
        "**LDA( Topic Modeling Technique) for test data**"
      ],
      "metadata": {
        "id": "P2DG1JxeA1LX"
      }
    },
    {
      "cell_type": "code",
      "source": [
        "def LDA_test(lda_model, n_topics, document_term_matrix):\n",
        "  lda_topic_matrix = lda_model.transform(document_term_matrix)\n",
        "  return lda_topic_matrix"
      ],
      "metadata": {
        "execution": {
          "iopub.status.busy": "2022-06-17T18:34:01.600669Z",
          "iopub.execute_input": "2022-06-17T18:34:01.601034Z",
          "iopub.status.idle": "2022-06-17T18:34:01.610905Z",
          "shell.execute_reply.started": "2022-06-17T18:34:01.600999Z",
          "shell.execute_reply": "2022-06-17T18:34:01.610041Z"
        },
        "trusted": true,
        "id": "HiXGobitA1LZ"
      },
      "execution_count": null,
      "outputs": []
    },
    {
      "cell_type": "markdown",
      "source": [
        "**Feature Concatination**"
      ],
      "metadata": {
        "id": "XFA5bSa4A1Ld"
      }
    },
    {
      "cell_type": "code",
      "source": [
        "def get_concatenated_features(comment_vec_matrix, code_vec_matrix):\n",
        "  Concatenated_Features_array= []\n",
        "  for x in range(len(code_vec_matrix)):\n",
        "    row_array = []\n",
        "    for y in range(len(code_vec_matrix[0])):\n",
        "      row_array.append(code_vec_matrix[x][y])\n",
        "      row_array.append(comment_vec_matrix[x][y])\n",
        "    Concatenated_Features_array.append(row_array)\n",
        "  return Concatenated_Features_array"
      ],
      "metadata": {
        "execution": {
          "iopub.status.busy": "2022-06-17T18:34:01.612352Z",
          "iopub.execute_input": "2022-06-17T18:34:01.612673Z",
          "iopub.status.idle": "2022-06-17T18:34:01.622721Z",
          "shell.execute_reply.started": "2022-06-17T18:34:01.61263Z",
          "shell.execute_reply": "2022-06-17T18:34:01.622034Z"
        },
        "trusted": true,
        "id": "49a4qHeKA1Ld"
      },
      "execution_count": null,
      "outputs": []
    },
    {
      "cell_type": "markdown",
      "source": [
        "**Random Forest model fit on train data**"
      ],
      "metadata": {
        "id": "H76PKwbaA1Le"
      }
    },
    {
      "cell_type": "code",
      "source": [
        "from sklearn.ensemble import RandomForestClassifier\n",
        "def RF_Inference_train(concat_feature, target_value):\n",
        "  model = RandomForestClassifier(n_estimators=100, \n",
        "                               bootstrap = True,\n",
        "                               max_features = 'sqrt')\n",
        "  model.fit(concat_feature, target_value)\n",
        "  probablities = model.predict_proba(concat_feature)\n",
        "  return model, probablities"
      ],
      "metadata": {
        "execution": {
          "iopub.status.busy": "2022-06-17T18:34:01.623746Z",
          "iopub.execute_input": "2022-06-17T18:34:01.624654Z",
          "iopub.status.idle": "2022-06-17T18:34:01.762555Z",
          "shell.execute_reply.started": "2022-06-17T18:34:01.624618Z",
          "shell.execute_reply": "2022-06-17T18:34:01.761549Z"
        },
        "trusted": true,
        "id": "lUaCMDgcA1Le"
      },
      "execution_count": null,
      "outputs": []
    },
    {
      "cell_type": "markdown",
      "source": [
        "**Random Forest model transform on test data using probability**"
      ],
      "metadata": {
        "id": "1pKTq50XA1Lf"
      }
    },
    {
      "cell_type": "code",
      "source": [
        "from sklearn.ensemble import RandomForestClassifier\n",
        "def RF_Inference_test(model, concat_feature):\n",
        "  probablities = model.predict_proba(concat_feature)\n",
        "  return probablities"
      ],
      "metadata": {
        "execution": {
          "iopub.status.busy": "2022-06-17T18:34:01.763953Z",
          "iopub.execute_input": "2022-06-17T18:34:01.764194Z",
          "iopub.status.idle": "2022-06-17T18:34:01.768863Z",
          "shell.execute_reply.started": "2022-06-17T18:34:01.764164Z",
          "shell.execute_reply": "2022-06-17T18:34:01.768045Z"
        },
        "trusted": true,
        "id": "VYPclbIvA1Lf"
      },
      "execution_count": null,
      "outputs": []
    },
    {
      "cell_type": "markdown",
      "source": [
        "# Function Calls after using stratified kfold"
      ],
      "metadata": {
        "id": "0uTNZF3sA1Lg"
      }
    },
    {
      "cell_type": "code",
      "source": [
        "accuracies = []\n",
        "roc_auc =[]\n",
        "precision = []\n",
        "recall = []\n",
        "\n",
        "X = df.to_numpy()\n",
        "y = target_value['label'].to_numpy()\n",
        "\n",
        "skf = StratifiedKFold(n_splits=10, random_state=1, shuffle=True)\n",
        "#skf = StratifiedKFold(n_splits=2, random_state=1, shuffle=True)\n",
        "for train_index, test_index in skf.split(X, y):\n",
        "    print(\"TRAIN:\", train_index.shape, \"TEST:\", test_index.shape)\n",
        "    train_X, test_X = pd.DataFrame(X[train_index], columns=df.columns), pd.DataFrame(X[test_index], columns=df.columns)\n",
        "    train_y, test_y = pd.DataFrame(y[train_index], columns=[' Label']), pd.DataFrame(y[test_index], columns=[' Label'])\n",
        "\n",
        "    train_X['code'] = train_X['code'].astype(str)\n",
        "    train_X['comment'] = train_X['comment'].astype(str)\n",
        "\n",
        "    test_X['code'] = test_X['code'].astype(str)\n",
        "    test_X['comment'] = test_X['comment'].astype(str)\n",
        "\n",
        "    #function calls\n",
        "\n",
        "    train_X['code'] = cleaning(train_X['code']).astype(str)\n",
        "    train_X['comment'] = cleaning(train_X['comment']).astype(str)\n",
        "\n",
        "\n",
        "    test_X['code'] = cleaning(test_X['code']).astype(str)\n",
        "    test_X['comment'] = cleaning(test_X['comment']).astype(str)\n",
        "\n",
        "    #CV for train data\n",
        "    comment_cv_model, comment_matrix_train = CV_train(train_X[\"comment\"])\n",
        "    code_cv_model, code_matrix_train = CV_train(train_X[\"code\"])\n",
        "\n",
        "    #CV for test data\n",
        "    comment_matrix_test = CV_test(comment_cv_model, test_X[\"comment\"])\n",
        "    code_matrix_test = CV_test(code_cv_model, test_X[\"code\"])\n",
        "\n",
        "    #for LDA and concatenated features\n",
        "    comment_lda_models_train = []\n",
        "    code_lda_models_train = []\n",
        "\n",
        "    rf_models_train = []\n",
        "\n",
        "    proba_list_train = []\n",
        "    for i in range(5, 26):\n",
        "        comment_lda_model, comment_LDA_train = LDA_train(i, comment_matrix_train)\n",
        "        comment_lda_models_train.append(comment_lda_model)\n",
        "        code_lda_model, code_LDA_train = LDA_train(i, code_matrix_train)\n",
        "        code_lda_models_train.append(code_lda_model)\n",
        "        features = get_concatenated_features(comment_LDA_train, code_LDA_train)\n",
        "        rf_model, proba = RF_Inference_train(features, train_y)\n",
        "        rf_models_train.append(rf_model)\n",
        "        proba_list_train.append(proba)\n",
        "    \n",
        "    proba_list_test = []\n",
        "    for i in range(5, 26):\n",
        "        comment_LDA_test = LDA_test(comment_lda_models_train[i-5], i, comment_matrix_test)\n",
        "        code_LDA_test = LDA_test(code_lda_models_train[i-5], i, code_matrix_test)\n",
        "        features = get_concatenated_features(comment_LDA_test, code_LDA_test)\n",
        "        proba_test = RF_Inference_test(rf_models_train[i-5], features)\n",
        "        proba_list_test.append(proba_test)\n",
        "\n",
        "    rf5 = proba_list_train[0][:,1]\n",
        "    rf6 = proba_list_train[1][:,1]\n",
        "    rf7 = proba_list_train[2][:,1]\n",
        "    rf8 = proba_list_train[3][:,1]\n",
        "    rf9 = proba_list_train[4][:,1]\n",
        "    rf10 = proba_list_train[5][:,1]\n",
        "    rf11 = proba_list_train[6][:,1]\n",
        "    rf12 = proba_list_train[7][:,1]\n",
        "    rf13 = proba_list_train[8][:,1]\n",
        "    rf14 = proba_list_train[9][:,1]\n",
        "    rf15 = proba_list_train[10][:,1]\n",
        "    rf16 = proba_list_train[11][:,1]\n",
        "    rf17 = proba_list_train[12][:,1]\n",
        "    rf18 = proba_list_train[13][:,1]\n",
        "    rf19 = proba_list_train[14][:,1]\n",
        "    rf20 = proba_list_train[15][:,1]\n",
        "    rf21 = proba_list_train[16][:,1]\n",
        "    rf22 = proba_list_train[17][:,1]\n",
        "    rf23 = proba_list_train[18][:,1]\n",
        "    rf24 = proba_list_train[19][:,1]\n",
        "    rf25 = proba_list_train[20][:,1]\n",
        "\n",
        "    #for train data\n",
        "    df_rf_train = pd.DataFrame(list(zip(rf5, rf6, rf7, rf8, rf9, rf10, rf11, rf12, \\\n",
        "                                        rf13, rf14, rf15, rf16, rf17, rf18, rf19, \\\n",
        "                                        rf20, rf21, rf22, rf23, rf24, rf25\\\n",
        "                                        )), columns =['rf5', 'rf6', 'rf7', 'rf8', \\\n",
        "                                                      'rf9', 'rf10', 'rf11', 'rf12', \\\n",
        "                                                      'rf13', 'rf14', 'rf15', 'rf16', \\\n",
        "                                                      'rf17', 'rf18', 'rf19', 'rf20', \\\n",
        "                                                      'rf21', 'rf22', 'rf23', 'rf24', 'rf25'])\n",
        "    \n",
        "    \n",
        "    # all parameters not specified are set to their defaults\n",
        "    logisticRegr = LogisticRegression()\n",
        "    logisticRegr.fit(df_rf_train, train_y)\n",
        "\n",
        "    #for test data\n",
        "    rf5 = proba_list_test[0][:,1]\n",
        "    rf6 = proba_list_test[1][:,1]\n",
        "    rf7 = proba_list_test[2][:,1]\n",
        "    rf8 = proba_list_test[3][:,1]\n",
        "    rf9 = proba_list_test[4][:,1]\n",
        "    rf10 = proba_list_test[5][:,1]\n",
        "    rf11 = proba_list_test[6][:,1]\n",
        "    rf12 = proba_list_test[7][:,1]\n",
        "    rf13 = proba_list_test[8][:,1]\n",
        "    rf14 = proba_list_test[9][:,1]\n",
        "    rf15 = proba_list_test[10][:,1]\n",
        "    rf16 = proba_list_test[11][:,1]\n",
        "    rf17 = proba_list_test[12][:,1]\n",
        "    rf18 = proba_list_test[13][:,1]\n",
        "    rf19 = proba_list_test[14][:,1]\n",
        "    rf20 = proba_list_test[15][:,1]\n",
        "    rf21 = proba_list_test[16][:,1]\n",
        "    rf22 = proba_list_test[17][:,1]\n",
        "    rf23 = proba_list_test[18][:,1]\n",
        "    rf24 = proba_list_test[19][:,1]\n",
        "    rf25 = proba_list_test[20][:,1]\n",
        "\n",
        "    df_rf_test = pd.DataFrame(list(zip(rf5, rf6, rf7, rf8, rf9, rf10, rf11, rf12, rf13, rf14, rf15, rf16,\\\n",
        "                         rf17, rf18, rf19, rf20, rf21, rf22, rf23, rf24, rf25)),\n",
        "               columns =['rf5', 'rf6', 'rf7', 'rf8', 'rf9', 'rf10', 'rf11', 'rf12', 'rf13', 'rf14', 'rf15', 'rf16',\\\n",
        "                         'rf17', 'rf18', 'rf19', 'rf20', 'rf21', 'rf22', 'rf23', 'rf24', 'rf25'])\n",
        "    print(test_y)\n",
        "    #roc_auc_y = test_y.loc[:,'label'] = test_y.label.map({'NOT_COHERENT':0, 'COHERENT':1})\n",
        "    accuracies.append(accuracy_score(test_y, logisticRegr.predict(df_rf_test)))\n",
        "    roc_auc.append(roc_auc_score(test_y, logisticRegr.predict(df_rf_test)))\n",
        "    precision.append(precision_score(test_y, logisticRegr.predict(df_rf_test)))\n",
        "    recall.append(recall_score(test_y, logisticRegr.predict(df_rf_test)))\n",
        "\n",
        "    print(classification_report(test_y,logisticRegr.predict(df_rf_test)))\n",
        "    print(f'roc_auc score: {roc_auc_score(test_y,logisticRegr.predict(df_rf_test))}')\n",
        "    print(f'precision: {precision_score(test_y, logisticRegr.predict(df_rf_test))}')\n",
        "    print(f'recall: {recall_score(test_y, logisticRegr.predict(df_rf_test))}')"
      ],
      "metadata": {
        "execution": {
          "iopub.status.busy": "2022-06-17T18:34:01.770238Z",
          "iopub.execute_input": "2022-06-17T18:34:01.770577Z",
          "iopub.status.idle": "2022-06-17T19:20:12.279354Z",
          "shell.execute_reply.started": "2022-06-17T18:34:01.770544Z",
          "shell.execute_reply": "2022-06-17T19:20:12.278495Z"
        },
        "trusted": true,
        "colab": {
          "base_uri": "https://localhost:8080/"
        },
        "id": "sEG4kVKDA1Lg",
        "outputId": "91c18d6e-8aae-46bc-d68d-ba7bbf222ef2"
      },
      "execution_count": null,
      "outputs": [
        {
          "output_type": "stream",
          "name": "stdout",
          "text": [
            "TRAIN: (983,) TEST: (110,)\n",
            "      Label\n",
            "0         1\n",
            "1         1\n",
            "2         1\n",
            "3         1\n",
            "4         1\n",
            "..      ...\n",
            "105       1\n",
            "106       1\n",
            "107       1\n",
            "108       1\n",
            "109       1\n",
            "\n",
            "[110 rows x 1 columns]\n",
            "              precision    recall  f1-score   support\n",
            "\n",
            "           0       0.40      0.57      0.47         7\n",
            "           1       0.97      0.94      0.96       103\n",
            "\n",
            "    accuracy                           0.92       110\n",
            "   macro avg       0.69      0.76      0.71       110\n",
            "weighted avg       0.93      0.92      0.92       110\n",
            "\n",
            "roc_auc score: 0.7565880721220527\n",
            "precision: 0.97\n",
            "recall: 0.941747572815534\n",
            "TRAIN: (983,) TEST: (110,)\n",
            "      Label\n",
            "0         1\n",
            "1         1\n",
            "2         1\n",
            "3         1\n",
            "4         1\n",
            "..      ...\n",
            "105       1\n",
            "106       1\n",
            "107       1\n",
            "108       1\n",
            "109       0\n",
            "\n",
            "[110 rows x 1 columns]\n",
            "              precision    recall  f1-score   support\n",
            "\n",
            "           0       0.40      0.50      0.44         8\n",
            "           1       0.96      0.94      0.95       102\n",
            "\n",
            "    accuracy                           0.91       110\n",
            "   macro avg       0.68      0.72      0.70       110\n",
            "weighted avg       0.92      0.91      0.91       110\n",
            "\n",
            "roc_auc score: 0.7205882352941176\n",
            "precision: 0.96\n",
            "recall: 0.9411764705882353\n",
            "TRAIN: (983,) TEST: (110,)\n",
            "      Label\n",
            "0         1\n",
            "1         1\n",
            "2         1\n",
            "3         1\n",
            "4         1\n",
            "..      ...\n",
            "105       1\n",
            "106       1\n",
            "107       0\n",
            "108       0\n",
            "109       0\n",
            "\n",
            "[110 rows x 1 columns]\n",
            "              precision    recall  f1-score   support\n",
            "\n",
            "           0       0.33      0.38      0.35         8\n",
            "           1       0.95      0.94      0.95       102\n",
            "\n",
            "    accuracy                           0.90       110\n",
            "   macro avg       0.64      0.66      0.65       110\n",
            "weighted avg       0.91      0.90      0.90       110\n",
            "\n",
            "roc_auc score: 0.6580882352941176\n",
            "precision: 0.9504950495049505\n",
            "recall: 0.9411764705882353\n",
            "TRAIN: (984,) TEST: (109,)\n",
            "      Label\n",
            "0         1\n",
            "1         1\n",
            "2         1\n",
            "3         1\n",
            "4         1\n",
            "..      ...\n",
            "104       1\n",
            "105       1\n",
            "106       1\n",
            "107       1\n",
            "108       1\n",
            "\n",
            "[109 rows x 1 columns]\n",
            "              precision    recall  f1-score   support\n",
            "\n",
            "           0       0.36      0.57      0.44         7\n",
            "           1       0.97      0.93      0.95       102\n",
            "\n",
            "    accuracy                           0.91       109\n",
            "   macro avg       0.67      0.75      0.70       109\n",
            "weighted avg       0.93      0.91      0.92       109\n",
            "\n",
            "roc_auc score: 0.7514005602240895\n",
            "precision: 0.9693877551020408\n",
            "recall: 0.9313725490196079\n",
            "TRAIN: (984,) TEST: (109,)\n",
            "      Label\n",
            "0         1\n",
            "1         1\n",
            "2         1\n",
            "3         1\n",
            "4         1\n",
            "..      ...\n",
            "104       1\n",
            "105       1\n",
            "106       1\n",
            "107       1\n",
            "108       1\n",
            "\n",
            "[109 rows x 1 columns]\n",
            "              precision    recall  f1-score   support\n",
            "\n",
            "           0       0.60      0.86      0.71         7\n",
            "           1       0.99      0.96      0.98       102\n",
            "\n",
            "    accuracy                           0.95       109\n",
            "   macro avg       0.79      0.91      0.84       109\n",
            "weighted avg       0.96      0.95      0.96       109\n",
            "\n",
            "roc_auc score: 0.9089635854341738\n",
            "precision: 0.98989898989899\n",
            "recall: 0.9607843137254902\n",
            "TRAIN: (984,) TEST: (109,)\n",
            "      Label\n",
            "0         1\n",
            "1         1\n",
            "2         1\n",
            "3         1\n",
            "4         1\n",
            "..      ...\n",
            "104       1\n",
            "105       1\n",
            "106       1\n",
            "107       1\n",
            "108       1\n",
            "\n",
            "[109 rows x 1 columns]\n",
            "              precision    recall  f1-score   support\n",
            "\n",
            "           0       0.40      0.57      0.47         7\n",
            "           1       0.97      0.94      0.96       102\n",
            "\n",
            "    accuracy                           0.92       109\n",
            "   macro avg       0.68      0.76      0.71       109\n",
            "weighted avg       0.93      0.92      0.92       109\n",
            "\n",
            "roc_auc score: 0.7563025210084032\n",
            "precision: 0.9696969696969697\n",
            "recall: 0.9411764705882353\n",
            "TRAIN: (984,) TEST: (109,)\n",
            "      Label\n",
            "0         1\n",
            "1         1\n",
            "2         1\n",
            "3         1\n",
            "4         1\n",
            "..      ...\n",
            "104       1\n",
            "105       1\n",
            "106       1\n",
            "107       1\n",
            "108       1\n",
            "\n",
            "[109 rows x 1 columns]\n",
            "              precision    recall  f1-score   support\n",
            "\n",
            "           0       0.33      0.43      0.38         7\n",
            "           1       0.96      0.94      0.95       102\n",
            "\n",
            "    accuracy                           0.91       109\n",
            "   macro avg       0.65      0.68      0.66       109\n",
            "weighted avg       0.92      0.91      0.91       109\n",
            "\n",
            "roc_auc score: 0.6848739495798319\n",
            "precision: 0.96\n",
            "recall: 0.9411764705882353\n",
            "TRAIN: (984,) TEST: (109,)\n",
            "      Label\n",
            "0         1\n",
            "1         0\n",
            "2         1\n",
            "3         1\n",
            "4         1\n",
            "..      ...\n",
            "104       1\n",
            "105       1\n",
            "106       1\n",
            "107       1\n",
            "108       1\n",
            "\n",
            "[109 rows x 1 columns]\n",
            "              precision    recall  f1-score   support\n",
            "\n",
            "           0       0.75      0.86      0.80         7\n",
            "           1       0.99      0.98      0.99       102\n",
            "\n",
            "    accuracy                           0.97       109\n",
            "   macro avg       0.87      0.92      0.89       109\n",
            "weighted avg       0.97      0.97      0.97       109\n",
            "\n",
            "roc_auc score: 0.9187675070028012\n",
            "precision: 0.9900990099009901\n",
            "recall: 0.9803921568627451\n",
            "TRAIN: (984,) TEST: (109,)\n",
            "      Label\n",
            "0         1\n",
            "1         1\n",
            "2         1\n",
            "3         1\n",
            "4         1\n",
            "..      ...\n",
            "104       1\n",
            "105       1\n",
            "106       1\n",
            "107       1\n",
            "108       1\n",
            "\n",
            "[109 rows x 1 columns]\n",
            "              precision    recall  f1-score   support\n",
            "\n",
            "           0       0.25      0.29      0.27         7\n",
            "           1       0.95      0.94      0.95       102\n",
            "\n",
            "    accuracy                           0.90       109\n",
            "   macro avg       0.60      0.61      0.61       109\n",
            "weighted avg       0.91      0.90      0.90       109\n",
            "\n",
            "roc_auc score: 0.6134453781512605\n",
            "precision: 0.9504950495049505\n",
            "recall: 0.9411764705882353\n",
            "TRAIN: (984,) TEST: (109,)\n",
            "      Label\n",
            "0         1\n",
            "1         1\n",
            "2         1\n",
            "3         1\n",
            "4         1\n",
            "..      ...\n",
            "104       1\n",
            "105       1\n",
            "106       1\n",
            "107       1\n",
            "108       0\n",
            "\n",
            "[109 rows x 1 columns]\n",
            "              precision    recall  f1-score   support\n",
            "\n",
            "           0       0.43      0.43      0.43         7\n",
            "           1       0.96      0.96      0.96       102\n",
            "\n",
            "    accuracy                           0.93       109\n",
            "   macro avg       0.69      0.69      0.69       109\n",
            "weighted avg       0.93      0.93      0.93       109\n",
            "\n",
            "roc_auc score: 0.6946778711484594\n",
            "precision: 0.9607843137254902\n",
            "recall: 0.9607843137254902\n"
          ]
        }
      ]
    },
    {
      "cell_type": "code",
      "source": [
        "print(f'accuracies:{accuracies}')"
      ],
      "metadata": {
        "execution": {
          "iopub.status.busy": "2022-06-17T19:20:12.281061Z",
          "iopub.execute_input": "2022-06-17T19:20:12.281593Z",
          "iopub.status.idle": "2022-06-17T19:20:12.290354Z",
          "shell.execute_reply.started": "2022-06-17T19:20:12.281546Z",
          "shell.execute_reply": "2022-06-17T19:20:12.289173Z"
        },
        "trusted": true,
        "colab": {
          "base_uri": "https://localhost:8080/"
        },
        "id": "UGWb6gJxA1Li",
        "outputId": "a7034230-96fa-4334-d5f5-2e920e92aec2"
      },
      "execution_count": null,
      "outputs": [
        {
          "output_type": "stream",
          "name": "stdout",
          "text": [
            "accuracies:[0.9181818181818182, 0.9090909090909091, 0.9, 0.908256880733945, 0.9541284403669725, 0.9174311926605505, 0.908256880733945, 0.9724770642201835, 0.8990825688073395, 0.926605504587156]\n"
          ]
        }
      ]
    },
    {
      "cell_type": "code",
      "source": [
        "print(f'roc_auc scores:{roc_auc}')"
      ],
      "metadata": {
        "colab": {
          "base_uri": "https://localhost:8080/"
        },
        "id": "2y2MsPoH8cX3",
        "outputId": "c8c09190-2e90-46c5-bba5-c34437b5fc94"
      },
      "execution_count": null,
      "outputs": [
        {
          "output_type": "stream",
          "name": "stdout",
          "text": [
            "roc_auc scores:[0.7565880721220527, 0.7205882352941176, 0.6580882352941176, 0.7514005602240895, 0.9089635854341738, 0.7563025210084032, 0.6848739495798319, 0.9187675070028012, 0.6134453781512605, 0.6946778711484594]\n"
          ]
        }
      ]
    },
    {
      "cell_type": "code",
      "source": [
        "print(f'precision scores: {precision}')"
      ],
      "metadata": {
        "colab": {
          "base_uri": "https://localhost:8080/"
        },
        "id": "dSsoevQt_KLT",
        "outputId": "885edf86-d28b-4360-c18b-f2b073fa12e1"
      },
      "execution_count": null,
      "outputs": [
        {
          "output_type": "stream",
          "name": "stdout",
          "text": [
            "precision scores: [0.97, 0.96, 0.9504950495049505, 0.9693877551020408, 0.98989898989899, 0.9696969696969697, 0.96, 0.9900990099009901, 0.9504950495049505, 0.9607843137254902]\n"
          ]
        }
      ]
    },
    {
      "cell_type": "code",
      "source": [
        "print(f'recall scores: {recall}')"
      ],
      "metadata": {
        "colab": {
          "base_uri": "https://localhost:8080/"
        },
        "id": "WQ9X0-Tl_KiL",
        "outputId": "6b2a1c2a-27d6-4c33-e4b0-abb0dc5872d2"
      },
      "execution_count": null,
      "outputs": [
        {
          "output_type": "stream",
          "name": "stdout",
          "text": [
            "recall scores: [0.941747572815534, 0.9411764705882353, 0.9411764705882353, 0.9313725490196079, 0.9607843137254902, 0.9411764705882353, 0.9411764705882353, 0.9803921568627451, 0.9411764705882353, 0.9607843137254902]\n"
          ]
        }
      ]
    },
    {
      "cell_type": "markdown",
      "source": [
        "# 1-gram individual BLEU"
      ],
      "metadata": {
        "id": "e4SU00WrA1Lj"
      }
    },
    {
      "cell_type": "code",
      "source": [
        "# from nltk.translate.bleu_score import sentence_bleu\n",
        "# scores = []\n",
        "# for index, rows in df.iterrows():\n",
        "#     reference = [str(rows['code']).split()]\n",
        "#     candidate = str(rows['comment']).split()\n",
        "#     scores.append(sentence_bleu(reference, candidate))\n",
        "#     print(f\"Label : {rows['label']} vs BLEU SCORE: {scores}\")"
      ],
      "metadata": {
        "execution": {
          "iopub.status.busy": "2022-06-17T19:20:12.292323Z",
          "iopub.execute_input": "2022-06-17T19:20:12.292676Z"
        },
        "trusted": true,
        "id": "jJnVdORqA1Lz"
      },
      "execution_count": null,
      "outputs": []
    },
    {
      "cell_type": "markdown",
      "source": [
        "**To generate the CSV file of BLEU Score**"
      ],
      "metadata": {
        "id": "6iIEg859A1Lz"
      }
    },
    {
      "cell_type": "code",
      "source": [
        "# bleu_csv = pd.DataFrame()\n",
        "\n",
        "# bleu_csv['code'] = df['code']\n",
        "# bleu_csv['comment'] = df['comment']\n",
        "# bleu_csv['label'] = df['label']\n",
        "# bleu_csv['bleu_score'] = scores\n",
        "\n",
        "# bleu_csv.head(10)\n",
        "\n",
        "# bleu_csv.to_csv(\"bleu_score_1.csv\")"
      ],
      "metadata": {
        "trusted": true,
        "id": "w0nHJX78A1L0"
      },
      "execution_count": null,
      "outputs": []
    },
    {
      "cell_type": "markdown",
      "source": [
        "#2-gram BLEU Score"
      ],
      "metadata": {
        "id": "ZhXtHmq4_B6c"
      }
    },
    {
      "cell_type": "code",
      "source": [
        "# n-gram individual BLEU\n",
        "# from nltk.translate.bleu_score import sentence_bleu\n",
        "# reference = [['this', 'is', 'a', 'test']]\n",
        "# candidate = ['this', 'is', 'a', 'test']\n",
        "# print('Individual 1-gram: %f' % sentence_bleu(reference, candidate, weights=(1, 0, 0, 0)))\n",
        "# print('Individual 2-gram: %f' % sentence_bleu(reference, candidate, weights=(0, 1, 0, 0)))\n",
        "# print('Individual 3-gram: %f' % sentence_bleu(reference, candidate, weights=(0, 0, 1, 0)))\n",
        "# print('Individual 4-gram: %f' % sentence_bleu(reference, candidate, weights=(0, 0, 0, 1)))"
      ],
      "metadata": {
        "id": "rFtqbFRk_Pw1"
      },
      "execution_count": null,
      "outputs": []
    },
    {
      "cell_type": "code",
      "source": [
        "# scores = []\n",
        "# for index, rows in df.iterrows():\n",
        "#     reference = [str(rows['code']).split()]\n",
        "#     candidate = str(rows['comment']).split()\n",
        "#     scores.append(sentence_bleu(reference, candidate, weights=(0, 1, 0, 0)))\n",
        "#     print(f\"Label : {rows['label']} vs BLEU SCORE: {scores}\")"
      ],
      "metadata": {
        "id": "byMA_w_t_YaM"
      },
      "execution_count": null,
      "outputs": []
    },
    {
      "cell_type": "code",
      "source": [
        "# bleu_csv = pd.DataFrame()\n",
        "\n",
        "# bleu_csv['code'] = df['code']\n",
        "# bleu_csv['comment'] = df['comment']\n",
        "# bleu_csv['label'] = df['label']\n",
        "# bleu_csv['bleu_score'] = scores\n",
        "\n",
        "# bleu_csv.head(10)\n",
        "\n",
        "# bleu_csv.to_csv(\"bleu_score_2.csv\")"
      ],
      "metadata": {
        "id": "R6Pj7WWw_jU0"
      },
      "execution_count": null,
      "outputs": []
    },
    {
      "cell_type": "markdown",
      "source": [
        "#k-Alpha"
      ],
      "metadata": {
        "id": "ZEdaR5454r68"
      }
    },
    {
      "cell_type": "code",
      "source": [
        "# !pip install simpledorff"
      ],
      "metadata": {
        "colab": {
          "base_uri": "https://localhost:8080/"
        },
        "id": "Y5x7NluH4tyj",
        "outputId": "086d0716-87e5-4b47-e97c-cd6a8c4d05a3"
      },
      "execution_count": null,
      "outputs": [
        {
          "output_type": "stream",
          "name": "stdout",
          "text": [
            "Looking in indexes: https://pypi.org/simple, https://us-python.pkg.dev/colab-wheels/public/simple/\n",
            "Collecting simpledorff\n",
            "  Downloading simpledorff-0.0.2-py3-none-any.whl (5.6 kB)\n",
            "Installing collected packages: simpledorff\n",
            "Successfully installed simpledorff-0.0.2\n"
          ]
        }
      ]
    },
    {
      "cell_type": "code",
      "source": [
        "# ann_1 = pd.read_csv('annotator1.csv')\n",
        "# ann_1['pair_id'] = ann_1.index\n",
        "# ann_1.rename(columns = {'Label(Lima)':'label'}, inplace = True)\n",
        "# ann_1['annotator_id'] = 'Lima'\n",
        "# ann_1.head(5)"
      ],
      "metadata": {
        "colab": {
          "base_uri": "https://localhost:8080/",
          "height": 413
        },
        "id": "dkdsgfM549Tu",
        "outputId": "a13cd58d-3ea8-422f-9000-8dd9138b55f7"
      },
      "execution_count": null,
      "outputs": [
        {
          "output_type": "error",
          "ename": "FileNotFoundError",
          "evalue": "ignored",
          "traceback": [
            "\u001b[0;31m---------------------------------------------------------------------------\u001b[0m",
            "\u001b[0;31mFileNotFoundError\u001b[0m                         Traceback (most recent call last)",
            "\u001b[0;32m<ipython-input-35-3cac5f9ce712>\u001b[0m in \u001b[0;36m<module>\u001b[0;34m\u001b[0m\n\u001b[0;32m----> 1\u001b[0;31m \u001b[0mann_1\u001b[0m \u001b[0;34m=\u001b[0m \u001b[0mpd\u001b[0m\u001b[0;34m.\u001b[0m\u001b[0mread_csv\u001b[0m\u001b[0;34m(\u001b[0m\u001b[0;34m'annotator1.csv'\u001b[0m\u001b[0;34m)\u001b[0m\u001b[0;34m\u001b[0m\u001b[0;34m\u001b[0m\u001b[0m\n\u001b[0m\u001b[1;32m      2\u001b[0m \u001b[0mann_1\u001b[0m\u001b[0;34m[\u001b[0m\u001b[0;34m'pair_id'\u001b[0m\u001b[0;34m]\u001b[0m \u001b[0;34m=\u001b[0m \u001b[0mann_1\u001b[0m\u001b[0;34m.\u001b[0m\u001b[0mindex\u001b[0m\u001b[0;34m\u001b[0m\u001b[0;34m\u001b[0m\u001b[0m\n\u001b[1;32m      3\u001b[0m \u001b[0mann_1\u001b[0m\u001b[0;34m.\u001b[0m\u001b[0mrename\u001b[0m\u001b[0;34m(\u001b[0m\u001b[0mcolumns\u001b[0m \u001b[0;34m=\u001b[0m \u001b[0;34m{\u001b[0m\u001b[0;34m'Label(Lima)'\u001b[0m\u001b[0;34m:\u001b[0m\u001b[0;34m'label'\u001b[0m\u001b[0;34m}\u001b[0m\u001b[0;34m,\u001b[0m \u001b[0minplace\u001b[0m \u001b[0;34m=\u001b[0m \u001b[0;32mTrue\u001b[0m\u001b[0;34m)\u001b[0m\u001b[0;34m\u001b[0m\u001b[0;34m\u001b[0m\u001b[0m\n\u001b[1;32m      4\u001b[0m \u001b[0mann_1\u001b[0m\u001b[0;34m[\u001b[0m\u001b[0;34m'annotator_id'\u001b[0m\u001b[0;34m]\u001b[0m \u001b[0;34m=\u001b[0m \u001b[0;34m'Lima'\u001b[0m\u001b[0;34m\u001b[0m\u001b[0;34m\u001b[0m\u001b[0m\n\u001b[1;32m      5\u001b[0m \u001b[0mann_1\u001b[0m\u001b[0;34m.\u001b[0m\u001b[0mhead\u001b[0m\u001b[0;34m(\u001b[0m\u001b[0;36m5\u001b[0m\u001b[0;34m)\u001b[0m\u001b[0;34m\u001b[0m\u001b[0;34m\u001b[0m\u001b[0m\n",
            "\u001b[0;32m/usr/local/lib/python3.7/dist-packages/pandas/util/_decorators.py\u001b[0m in \u001b[0;36mwrapper\u001b[0;34m(*args, **kwargs)\u001b[0m\n\u001b[1;32m    309\u001b[0m                     \u001b[0mstacklevel\u001b[0m\u001b[0;34m=\u001b[0m\u001b[0mstacklevel\u001b[0m\u001b[0;34m,\u001b[0m\u001b[0;34m\u001b[0m\u001b[0;34m\u001b[0m\u001b[0m\n\u001b[1;32m    310\u001b[0m                 )\n\u001b[0;32m--> 311\u001b[0;31m             \u001b[0;32mreturn\u001b[0m \u001b[0mfunc\u001b[0m\u001b[0;34m(\u001b[0m\u001b[0;34m*\u001b[0m\u001b[0margs\u001b[0m\u001b[0;34m,\u001b[0m \u001b[0;34m**\u001b[0m\u001b[0mkwargs\u001b[0m\u001b[0;34m)\u001b[0m\u001b[0;34m\u001b[0m\u001b[0;34m\u001b[0m\u001b[0m\n\u001b[0m\u001b[1;32m    312\u001b[0m \u001b[0;34m\u001b[0m\u001b[0m\n\u001b[1;32m    313\u001b[0m         \u001b[0;32mreturn\u001b[0m \u001b[0mwrapper\u001b[0m\u001b[0;34m\u001b[0m\u001b[0;34m\u001b[0m\u001b[0m\n",
            "\u001b[0;32m/usr/local/lib/python3.7/dist-packages/pandas/io/parsers/readers.py\u001b[0m in \u001b[0;36mread_csv\u001b[0;34m(filepath_or_buffer, sep, delimiter, header, names, index_col, usecols, squeeze, prefix, mangle_dupe_cols, dtype, engine, converters, true_values, false_values, skipinitialspace, skiprows, skipfooter, nrows, na_values, keep_default_na, na_filter, verbose, skip_blank_lines, parse_dates, infer_datetime_format, keep_date_col, date_parser, dayfirst, cache_dates, iterator, chunksize, compression, thousands, decimal, lineterminator, quotechar, quoting, doublequote, escapechar, comment, encoding, encoding_errors, dialect, error_bad_lines, warn_bad_lines, on_bad_lines, delim_whitespace, low_memory, memory_map, float_precision, storage_options)\u001b[0m\n\u001b[1;32m    584\u001b[0m     \u001b[0mkwds\u001b[0m\u001b[0;34m.\u001b[0m\u001b[0mupdate\u001b[0m\u001b[0;34m(\u001b[0m\u001b[0mkwds_defaults\u001b[0m\u001b[0;34m)\u001b[0m\u001b[0;34m\u001b[0m\u001b[0;34m\u001b[0m\u001b[0m\n\u001b[1;32m    585\u001b[0m \u001b[0;34m\u001b[0m\u001b[0m\n\u001b[0;32m--> 586\u001b[0;31m     \u001b[0;32mreturn\u001b[0m \u001b[0m_read\u001b[0m\u001b[0;34m(\u001b[0m\u001b[0mfilepath_or_buffer\u001b[0m\u001b[0;34m,\u001b[0m \u001b[0mkwds\u001b[0m\u001b[0;34m)\u001b[0m\u001b[0;34m\u001b[0m\u001b[0;34m\u001b[0m\u001b[0m\n\u001b[0m\u001b[1;32m    587\u001b[0m \u001b[0;34m\u001b[0m\u001b[0m\n\u001b[1;32m    588\u001b[0m \u001b[0;34m\u001b[0m\u001b[0m\n",
            "\u001b[0;32m/usr/local/lib/python3.7/dist-packages/pandas/io/parsers/readers.py\u001b[0m in \u001b[0;36m_read\u001b[0;34m(filepath_or_buffer, kwds)\u001b[0m\n\u001b[1;32m    480\u001b[0m \u001b[0;34m\u001b[0m\u001b[0m\n\u001b[1;32m    481\u001b[0m     \u001b[0;31m# Create the parser.\u001b[0m\u001b[0;34m\u001b[0m\u001b[0;34m\u001b[0m\u001b[0;34m\u001b[0m\u001b[0m\n\u001b[0;32m--> 482\u001b[0;31m     \u001b[0mparser\u001b[0m \u001b[0;34m=\u001b[0m \u001b[0mTextFileReader\u001b[0m\u001b[0;34m(\u001b[0m\u001b[0mfilepath_or_buffer\u001b[0m\u001b[0;34m,\u001b[0m \u001b[0;34m**\u001b[0m\u001b[0mkwds\u001b[0m\u001b[0;34m)\u001b[0m\u001b[0;34m\u001b[0m\u001b[0;34m\u001b[0m\u001b[0m\n\u001b[0m\u001b[1;32m    483\u001b[0m \u001b[0;34m\u001b[0m\u001b[0m\n\u001b[1;32m    484\u001b[0m     \u001b[0;32mif\u001b[0m \u001b[0mchunksize\u001b[0m \u001b[0;32mor\u001b[0m \u001b[0miterator\u001b[0m\u001b[0;34m:\u001b[0m\u001b[0;34m\u001b[0m\u001b[0;34m\u001b[0m\u001b[0m\n",
            "\u001b[0;32m/usr/local/lib/python3.7/dist-packages/pandas/io/parsers/readers.py\u001b[0m in \u001b[0;36m__init__\u001b[0;34m(self, f, engine, **kwds)\u001b[0m\n\u001b[1;32m    809\u001b[0m             \u001b[0mself\u001b[0m\u001b[0;34m.\u001b[0m\u001b[0moptions\u001b[0m\u001b[0;34m[\u001b[0m\u001b[0;34m\"has_index_names\"\u001b[0m\u001b[0;34m]\u001b[0m \u001b[0;34m=\u001b[0m \u001b[0mkwds\u001b[0m\u001b[0;34m[\u001b[0m\u001b[0;34m\"has_index_names\"\u001b[0m\u001b[0;34m]\u001b[0m\u001b[0;34m\u001b[0m\u001b[0;34m\u001b[0m\u001b[0m\n\u001b[1;32m    810\u001b[0m \u001b[0;34m\u001b[0m\u001b[0m\n\u001b[0;32m--> 811\u001b[0;31m         \u001b[0mself\u001b[0m\u001b[0;34m.\u001b[0m\u001b[0m_engine\u001b[0m \u001b[0;34m=\u001b[0m \u001b[0mself\u001b[0m\u001b[0;34m.\u001b[0m\u001b[0m_make_engine\u001b[0m\u001b[0;34m(\u001b[0m\u001b[0mself\u001b[0m\u001b[0;34m.\u001b[0m\u001b[0mengine\u001b[0m\u001b[0;34m)\u001b[0m\u001b[0;34m\u001b[0m\u001b[0;34m\u001b[0m\u001b[0m\n\u001b[0m\u001b[1;32m    812\u001b[0m \u001b[0;34m\u001b[0m\u001b[0m\n\u001b[1;32m    813\u001b[0m     \u001b[0;32mdef\u001b[0m \u001b[0mclose\u001b[0m\u001b[0;34m(\u001b[0m\u001b[0mself\u001b[0m\u001b[0;34m)\u001b[0m\u001b[0;34m:\u001b[0m\u001b[0;34m\u001b[0m\u001b[0;34m\u001b[0m\u001b[0m\n",
            "\u001b[0;32m/usr/local/lib/python3.7/dist-packages/pandas/io/parsers/readers.py\u001b[0m in \u001b[0;36m_make_engine\u001b[0;34m(self, engine)\u001b[0m\n\u001b[1;32m   1038\u001b[0m             )\n\u001b[1;32m   1039\u001b[0m         \u001b[0;31m# error: Too many arguments for \"ParserBase\"\u001b[0m\u001b[0;34m\u001b[0m\u001b[0;34m\u001b[0m\u001b[0;34m\u001b[0m\u001b[0m\n\u001b[0;32m-> 1040\u001b[0;31m         \u001b[0;32mreturn\u001b[0m \u001b[0mmapping\u001b[0m\u001b[0;34m[\u001b[0m\u001b[0mengine\u001b[0m\u001b[0;34m]\u001b[0m\u001b[0;34m(\u001b[0m\u001b[0mself\u001b[0m\u001b[0;34m.\u001b[0m\u001b[0mf\u001b[0m\u001b[0;34m,\u001b[0m \u001b[0;34m**\u001b[0m\u001b[0mself\u001b[0m\u001b[0;34m.\u001b[0m\u001b[0moptions\u001b[0m\u001b[0;34m)\u001b[0m  \u001b[0;31m# type: ignore[call-arg]\u001b[0m\u001b[0;34m\u001b[0m\u001b[0;34m\u001b[0m\u001b[0m\n\u001b[0m\u001b[1;32m   1041\u001b[0m \u001b[0;34m\u001b[0m\u001b[0m\n\u001b[1;32m   1042\u001b[0m     \u001b[0;32mdef\u001b[0m \u001b[0m_failover_to_python\u001b[0m\u001b[0;34m(\u001b[0m\u001b[0mself\u001b[0m\u001b[0;34m)\u001b[0m\u001b[0;34m:\u001b[0m\u001b[0;34m\u001b[0m\u001b[0;34m\u001b[0m\u001b[0m\n",
            "\u001b[0;32m/usr/local/lib/python3.7/dist-packages/pandas/io/parsers/c_parser_wrapper.py\u001b[0m in \u001b[0;36m__init__\u001b[0;34m(self, src, **kwds)\u001b[0m\n\u001b[1;32m     49\u001b[0m \u001b[0;34m\u001b[0m\u001b[0m\n\u001b[1;32m     50\u001b[0m         \u001b[0;31m# open handles\u001b[0m\u001b[0;34m\u001b[0m\u001b[0;34m\u001b[0m\u001b[0;34m\u001b[0m\u001b[0m\n\u001b[0;32m---> 51\u001b[0;31m         \u001b[0mself\u001b[0m\u001b[0;34m.\u001b[0m\u001b[0m_open_handles\u001b[0m\u001b[0;34m(\u001b[0m\u001b[0msrc\u001b[0m\u001b[0;34m,\u001b[0m \u001b[0mkwds\u001b[0m\u001b[0;34m)\u001b[0m\u001b[0;34m\u001b[0m\u001b[0;34m\u001b[0m\u001b[0m\n\u001b[0m\u001b[1;32m     52\u001b[0m         \u001b[0;32massert\u001b[0m \u001b[0mself\u001b[0m\u001b[0;34m.\u001b[0m\u001b[0mhandles\u001b[0m \u001b[0;32mis\u001b[0m \u001b[0;32mnot\u001b[0m \u001b[0;32mNone\u001b[0m\u001b[0;34m\u001b[0m\u001b[0;34m\u001b[0m\u001b[0m\n\u001b[1;32m     53\u001b[0m \u001b[0;34m\u001b[0m\u001b[0m\n",
            "\u001b[0;32m/usr/local/lib/python3.7/dist-packages/pandas/io/parsers/base_parser.py\u001b[0m in \u001b[0;36m_open_handles\u001b[0;34m(self, src, kwds)\u001b[0m\n\u001b[1;32m    227\u001b[0m             \u001b[0mmemory_map\u001b[0m\u001b[0;34m=\u001b[0m\u001b[0mkwds\u001b[0m\u001b[0;34m.\u001b[0m\u001b[0mget\u001b[0m\u001b[0;34m(\u001b[0m\u001b[0;34m\"memory_map\"\u001b[0m\u001b[0;34m,\u001b[0m \u001b[0;32mFalse\u001b[0m\u001b[0;34m)\u001b[0m\u001b[0;34m,\u001b[0m\u001b[0;34m\u001b[0m\u001b[0;34m\u001b[0m\u001b[0m\n\u001b[1;32m    228\u001b[0m             \u001b[0mstorage_options\u001b[0m\u001b[0;34m=\u001b[0m\u001b[0mkwds\u001b[0m\u001b[0;34m.\u001b[0m\u001b[0mget\u001b[0m\u001b[0;34m(\u001b[0m\u001b[0;34m\"storage_options\"\u001b[0m\u001b[0;34m,\u001b[0m \u001b[0;32mNone\u001b[0m\u001b[0;34m)\u001b[0m\u001b[0;34m,\u001b[0m\u001b[0;34m\u001b[0m\u001b[0;34m\u001b[0m\u001b[0m\n\u001b[0;32m--> 229\u001b[0;31m             \u001b[0merrors\u001b[0m\u001b[0;34m=\u001b[0m\u001b[0mkwds\u001b[0m\u001b[0;34m.\u001b[0m\u001b[0mget\u001b[0m\u001b[0;34m(\u001b[0m\u001b[0;34m\"encoding_errors\"\u001b[0m\u001b[0;34m,\u001b[0m \u001b[0;34m\"strict\"\u001b[0m\u001b[0;34m)\u001b[0m\u001b[0;34m,\u001b[0m\u001b[0;34m\u001b[0m\u001b[0;34m\u001b[0m\u001b[0m\n\u001b[0m\u001b[1;32m    230\u001b[0m         )\n\u001b[1;32m    231\u001b[0m \u001b[0;34m\u001b[0m\u001b[0m\n",
            "\u001b[0;32m/usr/local/lib/python3.7/dist-packages/pandas/io/common.py\u001b[0m in \u001b[0;36mget_handle\u001b[0;34m(path_or_buf, mode, encoding, compression, memory_map, is_text, errors, storage_options)\u001b[0m\n\u001b[1;32m    705\u001b[0m                 \u001b[0mencoding\u001b[0m\u001b[0;34m=\u001b[0m\u001b[0mioargs\u001b[0m\u001b[0;34m.\u001b[0m\u001b[0mencoding\u001b[0m\u001b[0;34m,\u001b[0m\u001b[0;34m\u001b[0m\u001b[0;34m\u001b[0m\u001b[0m\n\u001b[1;32m    706\u001b[0m                 \u001b[0merrors\u001b[0m\u001b[0;34m=\u001b[0m\u001b[0merrors\u001b[0m\u001b[0;34m,\u001b[0m\u001b[0;34m\u001b[0m\u001b[0;34m\u001b[0m\u001b[0m\n\u001b[0;32m--> 707\u001b[0;31m                 \u001b[0mnewline\u001b[0m\u001b[0;34m=\u001b[0m\u001b[0;34m\"\"\u001b[0m\u001b[0;34m,\u001b[0m\u001b[0;34m\u001b[0m\u001b[0;34m\u001b[0m\u001b[0m\n\u001b[0m\u001b[1;32m    708\u001b[0m             )\n\u001b[1;32m    709\u001b[0m         \u001b[0;32melse\u001b[0m\u001b[0;34m:\u001b[0m\u001b[0;34m\u001b[0m\u001b[0;34m\u001b[0m\u001b[0m\n",
            "\u001b[0;31mFileNotFoundError\u001b[0m: [Errno 2] No such file or directory: 'annotator1.csv'"
          ]
        }
      ]
    },
    {
      "cell_type": "code",
      "source": [
        "# ann_2 = pd.read_csv('annotator2.csv')\n",
        "# ann_2['pair_id'] = ann_2.index\n",
        "# ann_2.rename(columns = {'Label(Talha)':'label'}, inplace = True)\n",
        "# ann_2['annotator_id'] = 'Talha'\n",
        "# ann_2.head(5)"
      ],
      "metadata": {
        "id": "mHDkY1LN5RrY"
      },
      "execution_count": null,
      "outputs": []
    },
    {
      "cell_type": "code",
      "source": [
        "# ann_3 = pd.read_csv('annotator3.csv')\n",
        "# ann_3['pair_id'] = ann_3.index\n",
        "# ann_3.rename(columns = {'Label(Safayat)':'label'}, inplace = True)\n",
        "# ann_3['annotator_id'] = 'Safayat'\n",
        "# ann_3.head(5)"
      ],
      "metadata": {
        "id": "betB4wND5SQH"
      },
      "execution_count": null,
      "outputs": []
    },
    {
      "cell_type": "code",
      "source": [
        "# merged = pd.merge(ann_1, ann_2, on=['label', 'pair_id', 'annotator_id'], how='outer')"
      ],
      "metadata": {
        "id": "fnUp2TFtylRw"
      },
      "execution_count": null,
      "outputs": []
    },
    {
      "cell_type": "code",
      "source": [
        "# merged_final = pd.merge(merged, ann_3, on=['label', 'pair_id', 'annotator_id'], how='outer')"
      ],
      "metadata": {
        "id": "hzL0hk1lY4r-"
      },
      "execution_count": null,
      "outputs": []
    },
    {
      "cell_type": "code",
      "source": [
        "# import simpledorff\n",
        "# k_alpha = simpledorff.calculate_krippendorffs_alpha_for_df(merged_final,experiment_col='pair_id',\n",
        "#                                                  annotator_col='annotator_id',\n",
        "#                                                  class_col='label')\n",
        "\n",
        "# print(k_alpha)"
      ],
      "metadata": {
        "id": "ap-4YSo74uW0"
      },
      "execution_count": null,
      "outputs": []
    }
  ]
}